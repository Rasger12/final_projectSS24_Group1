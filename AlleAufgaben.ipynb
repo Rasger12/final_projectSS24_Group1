{
 "cells": [
  {
   "cell_type": "code",
   "execution_count": 1,
   "id": "4e902df6-5500-4e1e-bec0-83200b4389d5",
   "metadata": {},
   "outputs": [],
   "source": [
    "#Alle Aufgaben\n",
    "# In dieser Datei werden alle Aufgaben bearbeitet"
   ]
  },
  {
   "cell_type": "code",
   "execution_count": 2,
   "id": "a4211ec7-d549-4339-873b-c0fc9765ad27",
   "metadata": {},
   "outputs": [],
   "source": [
    "#libary Imports\n",
    "\n",
    "import pandas as pd \n",
    "import numpy as np \n",
    "import matplotlib.pyplot as plt\n",
    "import seaborn as sns"
   ]
  },
  {
   "cell_type": "code",
   "execution_count": 3,
   "id": "5dab7700-16c6-4470-ba78-b1965a8b5152",
   "metadata": {},
   "outputs": [],
   "source": [
    "# Hier wird die kuratierte csv eingelesen\n",
    "\n",
    "df = pd.read_csv('data/Kuratiert.csv', sep = \";\", decimal =',')"
   ]
  },
  {
   "cell_type": "code",
   "execution_count": 4,
   "id": "26ed7662-c6e5-4856-9ab2-f88fc9434719",
   "metadata": {},
   "outputs": [],
   "source": [
    "# Aufgabe 1 - Wie viele Autos wurden verkauft?"
   ]
  },
  {
   "cell_type": "code",
   "execution_count": 5,
   "id": "a81b870d-f7fe-4715-939b-0e822dd268a2",
   "metadata": {},
   "outputs": [
    {
     "data": {
      "text/plain": [
       "(1995, 7)"
      ]
     },
     "execution_count": 5,
     "metadata": {},
     "output_type": "execute_result"
    }
   ],
   "source": [
    "# Zuerst schauen wir, wie viele Zeilen es gibt\n",
    "df.shape"
   ]
  },
  {
   "cell_type": "code",
   "execution_count": 6,
   "id": "ab90bee6-9b75-4b7f-be98-086db59173ea",
   "metadata": {},
   "outputs": [
    {
     "name": "stdout",
     "output_type": "stream",
     "text": [
      "KundeNr          1995\n",
      "Alter            1995\n",
      "Geschlecht       1995\n",
      "Zeit             1995\n",
      "Einkommen        1995\n",
      "Preis            1104\n",
      "Niederlassung    1995\n",
      "dtype: int64\n"
     ]
    }
   ],
   "source": [
    "# Dann werden alle fehlenden Werte in einer Variable zugewiesen\n",
    "missing_values_countdf = df.isnull().sum()\n",
    "\n",
    "# Anschließend wird von der Gesamtanzahl der Zeilen, die Variable abgezogen, um herauszufinden, welche und wie viele Zeilen nicht leer sind.\n",
    "print(1995 - missing_values_countdf)"
   ]
  },
  {
   "cell_type": "code",
   "execution_count": 7,
   "id": "3a0c2351-583d-4cd7-925a-1fa74d1ff52a",
   "metadata": {},
   "outputs": [],
   "source": [
    "# Antwort: Es wurden insgesamt 1104 Autos verkauft"
   ]
  },
  {
   "cell_type": "code",
   "execution_count": 8,
   "id": "c2fbd107-6f81-4fda-a528-43962501e266",
   "metadata": {},
   "outputs": [],
   "source": [
    "# Aufgabe 2 - Was ist der Höchst-, Mindest- und Durchschnittspreis der verkauften Autos?"
   ]
  },
  {
   "cell_type": "code",
   "execution_count": 9,
   "id": "d053fd1e-48de-4a10-a9da-68bc1273664c",
   "metadata": {},
   "outputs": [
    {
     "data": {
      "text/html": [
       "<div>\n",
       "<style scoped>\n",
       "    .dataframe tbody tr th:only-of-type {\n",
       "        vertical-align: middle;\n",
       "    }\n",
       "\n",
       "    .dataframe tbody tr th {\n",
       "        vertical-align: top;\n",
       "    }\n",
       "\n",
       "    .dataframe thead th {\n",
       "        text-align: right;\n",
       "    }\n",
       "</style>\n",
       "<table border=\"1\" class=\"dataframe\">\n",
       "  <thead>\n",
       "    <tr style=\"text-align: right;\">\n",
       "      <th></th>\n",
       "      <th>Alter</th>\n",
       "      <th>Geschlecht</th>\n",
       "      <th>Zeit</th>\n",
       "      <th>Einkommen</th>\n",
       "      <th>Preis</th>\n",
       "    </tr>\n",
       "  </thead>\n",
       "  <tbody>\n",
       "    <tr>\n",
       "      <th>count</th>\n",
       "      <td>1995.000000</td>\n",
       "      <td>1995.000000</td>\n",
       "      <td>1995.000000</td>\n",
       "      <td>1995.000000</td>\n",
       "      <td>1104.000000</td>\n",
       "    </tr>\n",
       "    <tr>\n",
       "      <th>mean</th>\n",
       "      <td>50.158396</td>\n",
       "      <td>0.611028</td>\n",
       "      <td>40.262657</td>\n",
       "      <td>59104.923060</td>\n",
       "      <td>88975.198714</td>\n",
       "    </tr>\n",
       "    <tr>\n",
       "      <th>std</th>\n",
       "      <td>11.913807</td>\n",
       "      <td>0.487639</td>\n",
       "      <td>11.621591</td>\n",
       "      <td>16209.529474</td>\n",
       "      <td>24464.067781</td>\n",
       "    </tr>\n",
       "    <tr>\n",
       "      <th>min</th>\n",
       "      <td>30.000000</td>\n",
       "      <td>0.000000</td>\n",
       "      <td>3.000000</td>\n",
       "      <td>14547.000000</td>\n",
       "      <td>21471.650000</td>\n",
       "    </tr>\n",
       "    <tr>\n",
       "      <th>25%</th>\n",
       "      <td>40.000000</td>\n",
       "      <td>0.000000</td>\n",
       "      <td>32.000000</td>\n",
       "      <td>47093.000000</td>\n",
       "      <td>70609.422500</td>\n",
       "    </tr>\n",
       "    <tr>\n",
       "      <th>50%</th>\n",
       "      <td>51.000000</td>\n",
       "      <td>1.000000</td>\n",
       "      <td>40.000000</td>\n",
       "      <td>59104.513014</td>\n",
       "      <td>88931.455000</td>\n",
       "    </tr>\n",
       "    <tr>\n",
       "      <th>75%</th>\n",
       "      <td>61.000000</td>\n",
       "      <td>1.000000</td>\n",
       "      <td>48.000000</td>\n",
       "      <td>70639.675007</td>\n",
       "      <td>107093.375000</td>\n",
       "    </tr>\n",
       "    <tr>\n",
       "      <th>max</th>\n",
       "      <td>70.000000</td>\n",
       "      <td>1.000000</td>\n",
       "      <td>80.000000</td>\n",
       "      <td>100769.000000</td>\n",
       "      <td>165482.310000</td>\n",
       "    </tr>\n",
       "  </tbody>\n",
       "</table>\n",
       "</div>"
      ],
      "text/plain": [
       "             Alter   Geschlecht         Zeit      Einkommen          Preis\n",
       "count  1995.000000  1995.000000  1995.000000    1995.000000    1104.000000\n",
       "mean     50.158396     0.611028    40.262657   59104.923060   88975.198714\n",
       "std      11.913807     0.487639    11.621591   16209.529474   24464.067781\n",
       "min      30.000000     0.000000     3.000000   14547.000000   21471.650000\n",
       "25%      40.000000     0.000000    32.000000   47093.000000   70609.422500\n",
       "50%      51.000000     1.000000    40.000000   59104.513014   88931.455000\n",
       "75%      61.000000     1.000000    48.000000   70639.675007  107093.375000\n",
       "max      70.000000     1.000000    80.000000  100769.000000  165482.310000"
      ]
     },
     "execution_count": 9,
     "metadata": {},
     "output_type": "execute_result"
    }
   ],
   "source": [
    "# Hier werden statistische Merkmale angezeigt\n",
    "df.describe()"
   ]
  },
  {
   "cell_type": "code",
   "execution_count": 10,
   "id": "76f7d7fd-85f9-4af2-89ec-23b486355bb2",
   "metadata": {},
   "outputs": [],
   "source": [
    "# Antwort: \n",
    "# Höchstpreis = 165482.310000\n",
    "# Mindestpreis = 21471.650000\n",
    "# Durchschnittspreis = 88975.198714"
   ]
  },
  {
   "cell_type": "code",
   "execution_count": 11,
   "id": "f250f92d-38f7-4a51-9b8a-7f6aaa8cd2ef",
   "metadata": {},
   "outputs": [],
   "source": [
    "# Aufgabe 3 - Wie hoch war der Gesamtumsatz?"
   ]
  },
  {
   "cell_type": "code",
   "execution_count": 12,
   "id": "37fb50d7-bf4b-4d2b-b834-ab48c83e733e",
   "metadata": {},
   "outputs": [
    {
     "data": {
      "text/plain": [
       "98228619.38"
      ]
     },
     "execution_count": 12,
     "metadata": {},
     "output_type": "execute_result"
    }
   ],
   "source": [
    "# Alle Werte in der Spalte \"Preis\" werden summiert und einer Variable zugewiesen.\n",
    "gesamtumsatz = df.Preis.sum()\n",
    "\n",
    "# Anschließend wird der Wert der Variable ausgegeben\n",
    "gesamtumsatz"
   ]
  },
  {
   "cell_type": "code",
   "execution_count": 13,
   "id": "5f0216d5-71e1-49d6-bc11-5204c51bbc08",
   "metadata": {},
   "outputs": [],
   "source": [
    "# Antwort: Der Gesamtumsatz war 98.228.619,38 "
   ]
  },
  {
   "cell_type": "code",
   "execution_count": 14,
   "id": "e4956096-d304-47cb-98e8-19a37ef2215f",
   "metadata": {},
   "outputs": [],
   "source": [
    "# Aufgabe 4 - Wie viele Autos wurden pro Bundesland verkauft?"
   ]
  },
  {
   "cell_type": "code",
   "execution_count": null,
   "id": "4632a6b0-13ec-4323-b40c-1b2e29ff867e",
   "metadata": {},
   "outputs": [],
   "source": [
    "# Test"
   ]
  }
 ],
 "metadata": {
  "kernelspec": {
   "display_name": "Python 3 (ipykernel)",
   "language": "python",
   "name": "python3"
  },
  "language_info": {
   "codemirror_mode": {
    "name": "ipython",
    "version": 3
   },
   "file_extension": ".py",
   "mimetype": "text/x-python",
   "name": "python",
   "nbconvert_exporter": "python",
   "pygments_lexer": "ipython3",
   "version": "3.11.7"
  }
 },
 "nbformat": 4,
 "nbformat_minor": 5
}
