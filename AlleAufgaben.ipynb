{
 "cells": [
  {
   "cell_type": "code",
   "execution_count": 3,
   "id": "4e902df6-5500-4e1e-bec0-83200b4389d5",
   "metadata": {},
   "outputs": [],
   "source": [
    "#Alle Aufgaben\n",
    "# In dieser Datei werden alle Aufgaben bearbeitet"
   ]
  },
  {
   "cell_type": "code",
   "execution_count": 4,
   "id": "a4211ec7-d549-4339-873b-c0fc9765ad27",
   "metadata": {},
   "outputs": [],
   "source": [
    "#libary Imports\n",
    "\n",
    "import pandas as pd \n",
    "import numpy as np \n",
    "import matplotlib.pyplot as plt\n",
    "import seaborn as sns"
   ]
  },
  {
   "cell_type": "code",
   "execution_count": 5,
   "id": "5dab7700-16c6-4470-ba78-b1965a8b5152",
   "metadata": {},
   "outputs": [],
   "source": [
    "# Hier wird die kuratierte csv eingelesen\n",
    "\n",
    "df = pd.read_csv('data/Kuratiert.csv', sep = \";\", decimal =',')"
   ]
  },
  {
   "cell_type": "code",
   "execution_count": 6,
   "id": "26ed7662-c6e5-4856-9ab2-f88fc9434719",
   "metadata": {},
   "outputs": [],
   "source": [
    "# Aufgabe 1 - Wie viele Autos wurden verkauft?"
   ]
  },
  {
   "cell_type": "code",
   "execution_count": 7,
   "id": "a81b870d-f7fe-4715-939b-0e822dd268a2",
   "metadata": {},
   "outputs": [
    {
     "data": {
      "text/plain": [
       "(1995, 7)"
      ]
     },
     "execution_count": 7,
     "metadata": {},
     "output_type": "execute_result"
    }
   ],
   "source": [
    "# Zuerst schauen wir, wie viele Zeilen es gibt\n",
    "df.shape"
   ]
  },
  {
   "cell_type": "code",
   "execution_count": 8,
   "id": "ab90bee6-9b75-4b7f-be98-086db59173ea",
   "metadata": {
    "scrolled": true
   },
   "outputs": [
    {
     "name": "stdout",
     "output_type": "stream",
     "text": [
      "KundeNr          1995\n",
      "Alter            1995\n",
      "Geschlecht       1995\n",
      "Zeit             1995\n",
      "Einkommen        1995\n",
      "Preis            1104\n",
      "Niederlassung    1995\n",
      "dtype: int64\n"
     ]
    }
   ],
   "source": [
    "# Dann werden alle fehlenden Werte in einer Variable zugewiesen\n",
    "missing_values_countdf = df.isnull().sum()\n",
    "\n",
    "# Anschließend wird von der Gesamtanzahl der Zeilen, die Variable abgezogen, um herauszufinden, welche und wie viele Zeilen nicht leer sind.\n",
    "print(1995 - missing_values_countdf)"
   ]
  },
  {
   "cell_type": "code",
   "execution_count": 9,
   "id": "3a0c2351-583d-4cd7-925a-1fa74d1ff52a",
   "metadata": {},
   "outputs": [],
   "source": [
    "# Antwort: Es wurden insgesamt 1104 Autos verkauft"
   ]
  },
  {
   "cell_type": "code",
   "execution_count": 10,
   "id": "c2fbd107-6f81-4fda-a528-43962501e266",
   "metadata": {},
   "outputs": [],
   "source": [
    "# Aufgabe 2 - Was ist der Höchst-, Mindest- und Durchschnittspreis der verkauften Autos?"
   ]
  },
  {
   "cell_type": "code",
   "execution_count": 11,
   "id": "d053fd1e-48de-4a10-a9da-68bc1273664c",
   "metadata": {},
   "outputs": [
    {
     "data": {
      "text/html": [
       "<div>\n",
       "<style scoped>\n",
       "    .dataframe tbody tr th:only-of-type {\n",
       "        vertical-align: middle;\n",
       "    }\n",
       "\n",
       "    .dataframe tbody tr th {\n",
       "        vertical-align: top;\n",
       "    }\n",
       "\n",
       "    .dataframe thead th {\n",
       "        text-align: right;\n",
       "    }\n",
       "</style>\n",
       "<table border=\"1\" class=\"dataframe\">\n",
       "  <thead>\n",
       "    <tr style=\"text-align: right;\">\n",
       "      <th></th>\n",
       "      <th>Alter</th>\n",
       "      <th>Geschlecht</th>\n",
       "      <th>Zeit</th>\n",
       "      <th>Einkommen</th>\n",
       "      <th>Preis</th>\n",
       "    </tr>\n",
       "  </thead>\n",
       "  <tbody>\n",
       "    <tr>\n",
       "      <th>count</th>\n",
       "      <td>1995.000000</td>\n",
       "      <td>1995.000000</td>\n",
       "      <td>1995.000000</td>\n",
       "      <td>1995.000000</td>\n",
       "      <td>1104.000000</td>\n",
       "    </tr>\n",
       "    <tr>\n",
       "      <th>mean</th>\n",
       "      <td>50.158396</td>\n",
       "      <td>0.611028</td>\n",
       "      <td>40.262657</td>\n",
       "      <td>59104.923060</td>\n",
       "      <td>88975.198714</td>\n",
       "    </tr>\n",
       "    <tr>\n",
       "      <th>std</th>\n",
       "      <td>11.913807</td>\n",
       "      <td>0.487639</td>\n",
       "      <td>11.621591</td>\n",
       "      <td>16209.529474</td>\n",
       "      <td>24464.067781</td>\n",
       "    </tr>\n",
       "    <tr>\n",
       "      <th>min</th>\n",
       "      <td>30.000000</td>\n",
       "      <td>0.000000</td>\n",
       "      <td>3.000000</td>\n",
       "      <td>14547.000000</td>\n",
       "      <td>21471.650000</td>\n",
       "    </tr>\n",
       "    <tr>\n",
       "      <th>25%</th>\n",
       "      <td>40.000000</td>\n",
       "      <td>0.000000</td>\n",
       "      <td>32.000000</td>\n",
       "      <td>47093.000000</td>\n",
       "      <td>70609.422500</td>\n",
       "    </tr>\n",
       "    <tr>\n",
       "      <th>50%</th>\n",
       "      <td>51.000000</td>\n",
       "      <td>1.000000</td>\n",
       "      <td>40.000000</td>\n",
       "      <td>59104.513014</td>\n",
       "      <td>88931.455000</td>\n",
       "    </tr>\n",
       "    <tr>\n",
       "      <th>75%</th>\n",
       "      <td>61.000000</td>\n",
       "      <td>1.000000</td>\n",
       "      <td>48.000000</td>\n",
       "      <td>70639.675007</td>\n",
       "      <td>107093.375000</td>\n",
       "    </tr>\n",
       "    <tr>\n",
       "      <th>max</th>\n",
       "      <td>70.000000</td>\n",
       "      <td>1.000000</td>\n",
       "      <td>80.000000</td>\n",
       "      <td>100769.000000</td>\n",
       "      <td>165482.310000</td>\n",
       "    </tr>\n",
       "  </tbody>\n",
       "</table>\n",
       "</div>"
      ],
      "text/plain": [
       "             Alter   Geschlecht         Zeit      Einkommen          Preis\n",
       "count  1995.000000  1995.000000  1995.000000    1995.000000    1104.000000\n",
       "mean     50.158396     0.611028    40.262657   59104.923060   88975.198714\n",
       "std      11.913807     0.487639    11.621591   16209.529474   24464.067781\n",
       "min      30.000000     0.000000     3.000000   14547.000000   21471.650000\n",
       "25%      40.000000     0.000000    32.000000   47093.000000   70609.422500\n",
       "50%      51.000000     1.000000    40.000000   59104.513014   88931.455000\n",
       "75%      61.000000     1.000000    48.000000   70639.675007  107093.375000\n",
       "max      70.000000     1.000000    80.000000  100769.000000  165482.310000"
      ]
     },
     "execution_count": 11,
     "metadata": {},
     "output_type": "execute_result"
    }
   ],
   "source": [
    "# Hier werden statistische Merkmale angezeigt\n",
    "df.describe()"
   ]
  },
  {
   "cell_type": "code",
   "execution_count": 12,
   "id": "76f7d7fd-85f9-4af2-89ec-23b486355bb2",
   "metadata": {},
   "outputs": [],
   "source": [
    "# Antwort: \n",
    "# Höchstpreis = 165482.310000\n",
    "# Mindestpreis = 21471.650000\n",
    "# Durchschnittspreis = 88975.198714"
   ]
  },
  {
   "cell_type": "code",
   "execution_count": 13,
   "id": "f250f92d-38f7-4a51-9b8a-7f6aaa8cd2ef",
   "metadata": {},
   "outputs": [],
   "source": [
    "# Aufgabe 3 - Wie hoch war der Gesamtumsatz?"
   ]
  },
  {
   "cell_type": "code",
   "execution_count": 14,
   "id": "37fb50d7-bf4b-4d2b-b834-ab48c83e733e",
   "metadata": {
    "scrolled": true
   },
   "outputs": [
    {
     "data": {
      "text/plain": [
       "98228619.38"
      ]
     },
     "execution_count": 14,
     "metadata": {},
     "output_type": "execute_result"
    }
   ],
   "source": [
    "# Alle Werte in der Spalte \"Preis\" werden summiert und einer Variable zugewiesen.\n",
    "gesamtumsatz = df.Preis.sum()\n",
    "\n",
    "# Anschließend wird der Wert der Variable ausgegeben\n",
    "gesamtumsatz"
   ]
  },
  {
   "cell_type": "code",
   "execution_count": 15,
   "id": "5f0216d5-71e1-49d6-bc11-5204c51bbc08",
   "metadata": {},
   "outputs": [],
   "source": [
    "# Antwort: Der Gesamtumsatz war 98.228.619,38 €"
   ]
  },
  {
   "cell_type": "code",
   "execution_count": 16,
   "id": "e4956096-d304-47cb-98e8-19a37ef2215f",
   "metadata": {},
   "outputs": [],
   "source": [
    "# Aufgabe 4 - Wie viele Autos wurden pro Bundesland verkauft?"
   ]
  },
  {
   "cell_type": "code",
   "execution_count": 43,
   "id": "ab36b436",
   "metadata": {
    "scrolled": true
   },
   "outputs": [
    {
     "data": {
      "text/html": [
       "<div>\n",
       "<style scoped>\n",
       "    .dataframe tbody tr th:only-of-type {\n",
       "        vertical-align: middle;\n",
       "    }\n",
       "\n",
       "    .dataframe tbody tr th {\n",
       "        vertical-align: top;\n",
       "    }\n",
       "\n",
       "    .dataframe thead th {\n",
       "        text-align: right;\n",
       "    }\n",
       "</style>\n",
       "<table border=\"1\" class=\"dataframe\">\n",
       "  <thead>\n",
       "    <tr style=\"text-align: right;\">\n",
       "      <th></th>\n",
       "      <th>Niederlassung</th>\n",
       "      <th>Verkaufte Autos</th>\n",
       "    </tr>\n",
       "  </thead>\n",
       "  <tbody>\n",
       "    <tr>\n",
       "      <th>0</th>\n",
       "      <td>Baden-Württemberg</td>\n",
       "      <td>205</td>\n",
       "    </tr>\n",
       "    <tr>\n",
       "      <th>1</th>\n",
       "      <td>Bayern</td>\n",
       "      <td>188</td>\n",
       "    </tr>\n",
       "    <tr>\n",
       "      <th>2</th>\n",
       "      <td>Berlin</td>\n",
       "      <td>126</td>\n",
       "    </tr>\n",
       "    <tr>\n",
       "      <th>3</th>\n",
       "      <td>Brandenburg</td>\n",
       "      <td>37</td>\n",
       "    </tr>\n",
       "    <tr>\n",
       "      <th>4</th>\n",
       "      <td>Düsseldorf</td>\n",
       "      <td>1</td>\n",
       "    </tr>\n",
       "    <tr>\n",
       "      <th>5</th>\n",
       "      <td>Hamburg</td>\n",
       "      <td>43</td>\n",
       "    </tr>\n",
       "    <tr>\n",
       "      <th>6</th>\n",
       "      <td>Hessen</td>\n",
       "      <td>96</td>\n",
       "    </tr>\n",
       "    <tr>\n",
       "      <th>7</th>\n",
       "      <td>Niedersachsen</td>\n",
       "      <td>96</td>\n",
       "    </tr>\n",
       "    <tr>\n",
       "      <th>8</th>\n",
       "      <td>Nordrhein-Westfalen</td>\n",
       "      <td>174</td>\n",
       "    </tr>\n",
       "    <tr>\n",
       "      <th>9</th>\n",
       "      <td>Sachsen</td>\n",
       "      <td>89</td>\n",
       "    </tr>\n",
       "    <tr>\n",
       "      <th>10</th>\n",
       "      <td>Thüringen</td>\n",
       "      <td>49</td>\n",
       "    </tr>\n",
       "  </tbody>\n",
       "</table>\n",
       "</div>"
      ],
      "text/plain": [
       "          Niederlassung  Verkaufte Autos\n",
       "0     Baden-Württemberg              205\n",
       "1                Bayern              188\n",
       "2                Berlin              126\n",
       "3           Brandenburg               37\n",
       "4            Düsseldorf                1\n",
       "5               Hamburg               43\n",
       "6                Hessen               96\n",
       "7         Niedersachsen               96\n",
       "8   Nordrhein-Westfalen              174\n",
       "9               Sachsen               89\n",
       "10            Thüringen               49"
      ]
     },
     "execution_count": 43,
     "metadata": {},
     "output_type": "execute_result"
    }
   ],
   "source": [
    "# Alle Werte in \"Preis\" einer jeweiligen \"Niederlassung\" werden gezählt.\n",
    "aufgabe_4 = df.groupby(\"Niederlassung\")[[\"Preis\"]].count().reset_index()\n",
    "\n",
    "aufgabe_4.rename(columns ={\"Preis\":\"Verkaufte Autos\"})\n",
    "\n",
    "#In der spalte \"Verkaufte Autos\" findet man wie viele Autos in der jeweiligen Niederlassung verkauft wurden"
   ]
  },
  {
   "cell_type": "code",
   "execution_count": 18,
   "id": "5dc2f6db",
   "metadata": {},
   "outputs": [
    {
     "data": {
      "text/plain": [
       "1104"
      ]
     },
     "execution_count": 18,
     "metadata": {},
     "output_type": "execute_result"
    }
   ],
   "source": [
    "#Ein test um sicher zu gehen dass die bisherigen Werte stimmen\n",
    "#Summe der verkäufe der Niederlassungen muss Summe der gesamten Verkäufe entsprächen.\n",
    "aufgabe_4.Preis.sum()\n",
    "#Deckt sich mit bisherigen ergebnissen"
   ]
  },
  {
   "cell_type": "code",
   "execution_count": 19,
   "id": "4632a6b0-13ec-4323-b40c-1b2e29ff867e",
   "metadata": {},
   "outputs": [],
   "source": [
    "#Aufgabe 5 - Wie hoch war der durchschnittliche Umsatz pro Bundesland"
   ]
  },
  {
   "cell_type": "code",
   "execution_count": 42,
   "id": "55336968",
   "metadata": {
    "scrolled": true
   },
   "outputs": [
    {
     "data": {
      "text/html": [
       "<div>\n",
       "<style scoped>\n",
       "    .dataframe tbody tr th:only-of-type {\n",
       "        vertical-align: middle;\n",
       "    }\n",
       "\n",
       "    .dataframe tbody tr th {\n",
       "        vertical-align: top;\n",
       "    }\n",
       "\n",
       "    .dataframe thead th {\n",
       "        text-align: right;\n",
       "    }\n",
       "</style>\n",
       "<table border=\"1\" class=\"dataframe\">\n",
       "  <thead>\n",
       "    <tr style=\"text-align: right;\">\n",
       "      <th></th>\n",
       "      <th>Niederlassung</th>\n",
       "      <th>D. Umsatz</th>\n",
       "    </tr>\n",
       "  </thead>\n",
       "  <tbody>\n",
       "    <tr>\n",
       "      <th>0</th>\n",
       "      <td>Baden-Württemberg</td>\n",
       "      <td>90969.560000</td>\n",
       "    </tr>\n",
       "    <tr>\n",
       "      <th>1</th>\n",
       "      <td>Bayern</td>\n",
       "      <td>89344.313245</td>\n",
       "    </tr>\n",
       "    <tr>\n",
       "      <th>2</th>\n",
       "      <td>Berlin</td>\n",
       "      <td>89584.984048</td>\n",
       "    </tr>\n",
       "    <tr>\n",
       "      <th>3</th>\n",
       "      <td>Brandenburg</td>\n",
       "      <td>86673.640811</td>\n",
       "    </tr>\n",
       "    <tr>\n",
       "      <th>4</th>\n",
       "      <td>Düsseldorf</td>\n",
       "      <td>120215.500000</td>\n",
       "    </tr>\n",
       "    <tr>\n",
       "      <th>5</th>\n",
       "      <td>Hamburg</td>\n",
       "      <td>85549.499070</td>\n",
       "    </tr>\n",
       "    <tr>\n",
       "      <th>6</th>\n",
       "      <td>Hessen</td>\n",
       "      <td>85864.929479</td>\n",
       "    </tr>\n",
       "    <tr>\n",
       "      <th>7</th>\n",
       "      <td>Niedersachsen</td>\n",
       "      <td>87963.312500</td>\n",
       "    </tr>\n",
       "    <tr>\n",
       "      <th>8</th>\n",
       "      <td>Nordrhein-Westfalen</td>\n",
       "      <td>88451.758103</td>\n",
       "    </tr>\n",
       "    <tr>\n",
       "      <th>9</th>\n",
       "      <td>Sachsen</td>\n",
       "      <td>89455.080674</td>\n",
       "    </tr>\n",
       "    <tr>\n",
       "      <th>10</th>\n",
       "      <td>Thüringen</td>\n",
       "      <td>90816.994082</td>\n",
       "    </tr>\n",
       "  </tbody>\n",
       "</table>\n",
       "</div>"
      ],
      "text/plain": [
       "          Niederlassung      D. Umsatz\n",
       "0     Baden-Württemberg   90969.560000\n",
       "1                Bayern   89344.313245\n",
       "2                Berlin   89584.984048\n",
       "3           Brandenburg   86673.640811\n",
       "4            Düsseldorf  120215.500000\n",
       "5               Hamburg   85549.499070\n",
       "6                Hessen   85864.929479\n",
       "7         Niedersachsen   87963.312500\n",
       "8   Nordrhein-Westfalen   88451.758103\n",
       "9               Sachsen   89455.080674\n",
       "10            Thüringen   90816.994082"
      ]
     },
     "execution_count": 42,
     "metadata": {},
     "output_type": "execute_result"
    }
   ],
   "source": [
    "# Es wird der Durschnitt aller Werte der jeweiligen Niederlassung berechnet.\n",
    "aufgabe_5 = df.groupby(\"Niederlassung\")[[\"Preis\"]].mean().reset_index()\n",
    "aufgabe_5.rename(columns ={\"Preis\":\"D. Umsatz\"})\n",
    "#In der Spalte \"D. Umsatz\" stehen alle Durschnitswerte der jeweiligen Niederlassungen."
   ]
  },
  {
   "cell_type": "code",
   "execution_count": 21,
   "id": "4d319bf9",
   "metadata": {},
   "outputs": [],
   "source": [
    "#Aufgabe 6 - In welchem Bundesland wurde das teuerste Auto verkauft?"
   ]
  },
  {
   "cell_type": "code",
   "execution_count": 22,
   "id": "6379dfd8",
   "metadata": {},
   "outputs": [
    {
     "data": {
      "text/plain": [
       "Niederlassung    Thüringen\n",
       "Preis            165482.31\n",
       "dtype: object"
      ]
     },
     "execution_count": 22,
     "metadata": {},
     "output_type": "execute_result"
    }
   ],
   "source": [
    "# Es wird der Mximalwert der jeweiligen Niederlassungen ausgegeben.\n",
    "aufgabe_6 = df.groupby(\"Niederlassung\")[[\"Preis\"]].max().reset_index()\n",
    "\n",
    "#Hier geben wir den Maximalwert der Niederlassungen aus. Also das Bundesland, das das Teuerste Auto verkauft hat.\n",
    "aufgabe_6.max()"
   ]
  },
  {
   "cell_type": "code",
   "execution_count": 23,
   "id": "22929d62",
   "metadata": {},
   "outputs": [],
   "source": [
    "#Aufgabe 7 - Haben mehr Frauen oder Männer unsere Autos gekauft?"
   ]
  },
  {
   "cell_type": "code",
   "execution_count": 40,
   "id": "62b41603",
   "metadata": {},
   "outputs": [
    {
     "data": {
      "text/html": [
       "<div>\n",
       "<style scoped>\n",
       "    .dataframe tbody tr th:only-of-type {\n",
       "        vertical-align: middle;\n",
       "    }\n",
       "\n",
       "    .dataframe tbody tr th {\n",
       "        vertical-align: top;\n",
       "    }\n",
       "\n",
       "    .dataframe thead th {\n",
       "        text-align: right;\n",
       "    }\n",
       "</style>\n",
       "<table border=\"1\" class=\"dataframe\">\n",
       "  <thead>\n",
       "    <tr style=\"text-align: right;\">\n",
       "      <th></th>\n",
       "      <th>Geschlecht</th>\n",
       "      <th>Gekaufte Autos</th>\n",
       "    </tr>\n",
       "  </thead>\n",
       "  <tbody>\n",
       "    <tr>\n",
       "      <th>0</th>\n",
       "      <td>0</td>\n",
       "      <td>400</td>\n",
       "    </tr>\n",
       "    <tr>\n",
       "      <th>1</th>\n",
       "      <td>1</td>\n",
       "      <td>704</td>\n",
       "    </tr>\n",
       "  </tbody>\n",
       "</table>\n",
       "</div>"
      ],
      "text/plain": [
       "   Geschlecht  Gekaufte Autos\n",
       "0           0             400\n",
       "1           1             704"
      ]
     },
     "execution_count": 40,
     "metadata": {},
     "output_type": "execute_result"
    }
   ],
   "source": [
    "# Geschlecht gruppiert nach anzahl an Preis einträgen.\n",
    "aufgabe_7 = df.groupby(\"Geschlecht\")[[\"Preis\"]].count().reset_index()\n",
    "\n",
    "#In der Ausgabe erkennt man dass Frauen (0) 400 mal ein Auto gekauft haben und Männer(1) 704 mal.\n",
    "\n",
    "aufgabe_7.rename(columns ={\"Preis\":\"Gekaufte Autos\"})\n",
    "# Männer haben mehr Autos gekauft als Frauen."
   ]
  },
  {
   "cell_type": "code",
   "execution_count": null,
   "id": "867b2c43",
   "metadata": {},
   "outputs": [],
   "source": [
    "# Aufgabe 8 - Wie hoch ist das Durchschnittsalter unserer Kunden? \n",
    "#             Wie hoch ist das Durchschnittsalter unserer Besucher?"
   ]
  },
  {
   "cell_type": "code",
   "execution_count": 52,
   "id": "913eb699",
   "metadata": {},
   "outputs": [
    {
     "data": {
      "text/html": [
       "<div>\n",
       "<style scoped>\n",
       "    .dataframe tbody tr th:only-of-type {\n",
       "        vertical-align: middle;\n",
       "    }\n",
       "\n",
       "    .dataframe tbody tr th {\n",
       "        vertical-align: top;\n",
       "    }\n",
       "\n",
       "    .dataframe thead th {\n",
       "        text-align: right;\n",
       "    }\n",
       "</style>\n",
       "<table border=\"1\" class=\"dataframe\">\n",
       "  <thead>\n",
       "    <tr style=\"text-align: right;\">\n",
       "      <th></th>\n",
       "      <th>Kunde</th>\n",
       "      <th>Alter</th>\n",
       "    </tr>\n",
       "  </thead>\n",
       "  <tbody>\n",
       "    <tr>\n",
       "      <th>0</th>\n",
       "      <td>False</td>\n",
       "      <td>49.88</td>\n",
       "    </tr>\n",
       "    <tr>\n",
       "      <th>1</th>\n",
       "      <td>True</td>\n",
       "      <td>50.38</td>\n",
       "    </tr>\n",
       "  </tbody>\n",
       "</table>\n",
       "</div>"
      ],
      "text/plain": [
       "   Kunde  Alter\n",
       "0  False  49.88\n",
       "1   True  50.38"
      ]
     },
     "execution_count": 52,
     "metadata": {},
     "output_type": "execute_result"
    }
   ],
   "source": [
    "# Der Dataframe wird um eine Reihe erweitert mit der Information ob es sich um einen Kunden oder Besucher handelt\n",
    "df = df.assign(Kunde = df[\"Preis\"].notna())\n",
    "# Gruppierung nach dem Kundenstatus \"Kunde\" und berechnung des auf zwei Nachkommastellen gerundeten Durschnittsalters.\n",
    "aufgabe_8 = df.groupby(\"Kunde\")[[\"Alter\"]].mean().reset_index().round(2)\n",
    "\n",
    "aufgabe_8\n",
    "# Kunden sind im Schnitt 50,38 und Besucher im Schnitt 49,88 Jahre alt."
   ]
  },
  {
   "cell_type": "code",
   "execution_count": null,
   "id": "3f16a065",
   "metadata": {},
   "outputs": [],
   "source": [
    "#Aufgabe 9 - Wie hoch ist das Durchschnittseinkommen unserer Kunden? \n",
    "#            Wie hoch ist das Durchschnittseinkommen unserer Besucher?"
   ]
  },
  {
   "cell_type": "code",
   "execution_count": 53,
   "id": "c8074df2",
   "metadata": {},
   "outputs": [
    {
     "data": {
      "text/html": [
       "<div>\n",
       "<style scoped>\n",
       "    .dataframe tbody tr th:only-of-type {\n",
       "        vertical-align: middle;\n",
       "    }\n",
       "\n",
       "    .dataframe tbody tr th {\n",
       "        vertical-align: top;\n",
       "    }\n",
       "\n",
       "    .dataframe thead th {\n",
       "        text-align: right;\n",
       "    }\n",
       "</style>\n",
       "<table border=\"1\" class=\"dataframe\">\n",
       "  <thead>\n",
       "    <tr style=\"text-align: right;\">\n",
       "      <th></th>\n",
       "      <th>Kunde</th>\n",
       "      <th>Durchschnittseinkommen</th>\n",
       "    </tr>\n",
       "  </thead>\n",
       "  <tbody>\n",
       "    <tr>\n",
       "      <th>0</th>\n",
       "      <td>False</td>\n",
       "      <td>59419.66</td>\n",
       "    </tr>\n",
       "    <tr>\n",
       "      <th>1</th>\n",
       "      <td>True</td>\n",
       "      <td>58850.91</td>\n",
       "    </tr>\n",
       "  </tbody>\n",
       "</table>\n",
       "</div>"
      ],
      "text/plain": [
       "   Kunde  Durchschnittseinkommen\n",
       "0  False                59419.66\n",
       "1   True                58850.91"
      ]
     },
     "execution_count": 53,
     "metadata": {},
     "output_type": "execute_result"
    }
   ],
   "source": [
    "# Gruppieren nach dem Kundenstatus und berechnung des Durchschnittseinkommen.\n",
    "aufgabe_9 = df.groupby(\"Kunde\")[[\"Einkommen\"]].mean().reset_index()\n",
    "# Die Ausgabe anzeigen lassen mit angepasstem Spaltentitel zu \"Durchschnittseinkommen\" und einem auf zwei Stellen gerundetem Wert.\n",
    "aufgabe_9.rename(columns ={\"Einkommen\":\"Durchschnittseinkommen\"}).round(2)"
   ]
  },
  {
   "cell_type": "code",
   "execution_count": null,
   "id": "cc64a037",
   "metadata": {},
   "outputs": [],
   "source": [
    "#Aufgabe 10 - Bestimmen Sie ob es einen statistisch signifikanten Unterschied \n",
    "#             zwischen dem Durschnittseinkommen der Kunden und dem Durchscnittseinkommen der Besucher gibt. "
   ]
  },
  {
   "cell_type": "code",
   "execution_count": 83,
   "id": "aded1f2e",
   "metadata": {},
   "outputs": [
    {
     "data": {
      "text/plain": [
       "TtestResult(statistic=array([-0.7790477]), pvalue=array([0.43604411]), df=array([1993.]))"
      ]
     },
     "execution_count": 83,
     "metadata": {},
     "output_type": "execute_result"
    }
   ],
   "source": [
    "# Die Nullhypothese: \n",
    "# H0: μ 1 = μ 2 (die beiden Populationsmittelwerte sind gleich)\n",
    "# Die Allternativhypothese: \n",
    "# H1: μ 1 ≠ μ 2 (die beiden Populationsmittelwerte sind nicht gleich)\n",
    "\n",
    "#T-Test Funktion von scipy.stats importieren \n",
    "from scipy.stats import ttest_ind\n",
    "\n",
    "# Daten vorbereiten für die Funktion. Wir benötigen input a und b mit jeweils den Werten der zuvergleichenden Daten.\n",
    "# Erstellen eines neuen Dataframes mit jeweils den Einkommen der Kunden und der Besucher\n",
    "a_kunde = df.loc[df[\"Kunde\"] == True, [\"Einkommen\"]]\n",
    "b_besucher = df.loc[df[\"Kunde\"] == False, [\"Einkommen\"]]\n",
    "#Wir setzen die Einkommen der Kunden und Besucher in die Funktion ein und geben an dass die Varianz gleich ist.\n",
    "t_test = ttest_ind(a=a_kunde, b=b_besucher, equal_var=True)\n",
    "t_test\n",
    "\n",
    "# Interpretation der Ergebnisse:\n",
    "# Das signifikanzniveau (pvalue) ist 0.44 uns somit > 0.05.\n",
    "# Wir könen die Nullhypothese des tests nicht ablehnen. \n",
    "# Somit gilt: H0| μ 1 = μ 2 (die beiden Populationsmittelwerte sind gleich)\n",
    "# Es gibt keinen statistisch signifikanten Unterschied \n",
    "# zwischen dem Durschnittseinkommen der Kunden und dem Durchscnittseinkommen der Besucher.\n"
   ]
  },
  {
   "cell_type": "code",
   "execution_count": null,
   "id": "171e2cf7",
   "metadata": {},
   "outputs": [],
   "source": [
    "#Aufgabe 11 - Wie hoch ist die Korrelation (Pearson-Korrelation) zwischen den Variablen Alter, Einkommen, Preis und Zeit?\n",
    "#             (Nur für Kunden)"
   ]
  },
  {
   "cell_type": "code",
   "execution_count": 171,
   "id": "ad11aed0",
   "metadata": {
    "scrolled": true
   },
   "outputs": [
    {
     "name": "stdout",
     "output_type": "stream",
     "text": [
      "Korrelation von Alter, Einkommen, Preis und Zeit unserer Kunden:\n"
     ]
    },
    {
     "data": {
      "text/plain": [
       "{'Korrelation zwischen Alter und Einkommen': 0.76,\n",
       " 'Korrelation zwischen Alter und Preis': 0.78,\n",
       " 'Korrelation zwischen Alter und Zeit': 0.59,\n",
       " 'Korrelation zwischen Einkommen und Preis': 0.89,\n",
       " 'Korrelation zwischen Einkommen und Zeit': 0.78,\n",
       " 'Korrelation zwischen Preis und Zeit': 0.71}"
      ]
     },
     "execution_count": 171,
     "metadata": {},
     "output_type": "execute_result"
    }
   ],
   "source": [
    "# Erstellen eines Dataframes das nur Kundendaten beinhaltet.\n",
    "df_kunden = df.loc[df[\"Kunde\"] == True, [\"Alter\", \"Einkommen\", \"Preis\", \"Zeit\"]]\n",
    "# Definition von einem Dictionary in dem die Antworten gespeichert werden. Sowie Listen die beim folgenden for Loop unterstüzen.\n",
    "corr_dict = {}\n",
    "variablen = [\"Alter\", \"Einkommen\", \"Preis\", \"Zeit\"]\n",
    "overflow =[]\n",
    "# Ein for Loop der alle gegebenen Variablen nimmt und die Korrelation zwischen den Variablen berechnet.\n",
    "# Das Ergebniss wird auf zwei Nachkommastellen gerundet.\n",
    "for i in variablen:\n",
    "    for y in variablen:\n",
    "        if i != y:\n",
    "            if y not in overflow:\n",
    "                corr_dict[\"Korrelation zwischen \" + i +\" und \" +y] = df_kunden[i].corr(df[y]).round(2)\n",
    "                overflow.append(i)\n",
    "print(\"Korrelation von Alter, Einkommen, Preis und Zeit unserer Kunden:\" )           \n",
    "corr_dict\n",
    "# Alle Variablen Korrelieren positiv miteinander."
   ]
  },
  {
   "cell_type": "code",
   "execution_count": null,
   "id": "3c40d8db",
   "metadata": {},
   "outputs": [],
   "source": [
    "# Aufgabe 12 - Testen Sie grafisch mit Hilfe eines qq-Plos, ob die Variable Zeit approximativ normalverteilt ist."
   ]
  },
  {
   "cell_type": "code",
   "execution_count": null,
   "id": "cb236bdc",
   "metadata": {},
   "outputs": [],
   "source": []
  },
  {
   "cell_type": "code",
   "execution_count": null,
   "id": "15a2f1ec",
   "metadata": {},
   "outputs": [],
   "source": []
  }
 ],
 "metadata": {
  "kernelspec": {
   "display_name": "Python 3 (ipykernel)",
   "language": "python",
   "name": "python3"
  },
  "language_info": {
   "codemirror_mode": {
    "name": "ipython",
    "version": 3
   },
   "file_extension": ".py",
   "mimetype": "text/x-python",
   "name": "python",
   "nbconvert_exporter": "python",
   "pygments_lexer": "ipython3",
   "version": "3.11.5"
  }
 },
 "nbformat": 4,
 "nbformat_minor": 5
}
