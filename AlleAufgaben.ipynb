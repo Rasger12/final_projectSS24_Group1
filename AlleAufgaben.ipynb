{
 "cells": [
  {
   "cell_type": "code",
   "execution_count": 1,
   "id": "4e902df6-5500-4e1e-bec0-83200b4389d5",
   "metadata": {},
   "outputs": [],
   "source": [
    "#Alle Aufgaben\n",
    "# In dieser Datei werden alle Aufgaben bearbeitet"
   ]
  },
  {
   "cell_type": "code",
   "execution_count": 2,
   "id": "a4211ec7-d549-4339-873b-c0fc9765ad27",
   "metadata": {},
   "outputs": [],
   "source": [
    "#libary Imports\n",
    "\n",
    "import pandas as pd \n",
    "import numpy as np \n",
    "import matplotlib.pyplot as plt\n",
    "import seaborn as sns\n",
    "import statsmodels.api as sm\n",
    "\n",
    "from sklearn.linear_model import LinearRegression\n",
    "from sklearn.linear_model import LogisticRegression\n",
    "from sklearn.preprocessing import StandardScaler"
   ]
  },
  {
   "cell_type": "code",
   "execution_count": 3,
   "id": "5dab7700-16c6-4470-ba78-b1965a8b5152",
   "metadata": {},
   "outputs": [],
   "source": [
    "# Hier wird die kuratierte csv eingelesen\n",
    "\n",
    "df = pd.read_csv('data/Kuratiert.csv', sep = \";\", decimal =',')"
   ]
  },
  {
   "cell_type": "code",
   "execution_count": 4,
   "id": "26ed7662-c6e5-4856-9ab2-f88fc9434719",
   "metadata": {},
   "outputs": [],
   "source": [
    "# Aufgabe 1 - Wie viele Autos wurden verkauft?"
   ]
  },
  {
   "cell_type": "code",
   "execution_count": 5,
   "id": "a81b870d-f7fe-4715-939b-0e822dd268a2",
   "metadata": {},
   "outputs": [
    {
     "data": {
      "text/plain": [
       "(1995, 7)"
      ]
     },
     "execution_count": 5,
     "metadata": {},
     "output_type": "execute_result"
    }
   ],
   "source": [
    "# Zuerst schauen wir, wie viele Zeilen es gibt\n",
    "df.shape"
   ]
  },
  {
   "cell_type": "code",
   "execution_count": 6,
   "id": "ab90bee6-9b75-4b7f-be98-086db59173ea",
   "metadata": {
    "scrolled": true
   },
   "outputs": [
    {
     "name": "stdout",
     "output_type": "stream",
     "text": [
      "KundeNr          1995\n",
      "Alter            1995\n",
      "Geschlecht       1995\n",
      "Zeit             1995\n",
      "Einkommen        1995\n",
      "Preis            1104\n",
      "Niederlassung    1995\n",
      "dtype: int64\n"
     ]
    }
   ],
   "source": [
    "# Dann werden alle fehlenden Werte in einer Variable zugewiesen\n",
    "missing_values_countdf = df.isnull().sum()\n",
    "\n",
    "# Anschließend wird von der Gesamtanzahl der Zeilen, die Variable abgezogen, um herauszufinden, welche und wie viele Zeilen nicht leer sind.\n",
    "print(1995 - missing_values_countdf)"
   ]
  },
  {
   "cell_type": "code",
   "execution_count": 7,
   "id": "3a0c2351-583d-4cd7-925a-1fa74d1ff52a",
   "metadata": {},
   "outputs": [],
   "source": [
    "# Antwort: Es wurden insgesamt 1104 Autos verkauft"
   ]
  },
  {
   "cell_type": "code",
   "execution_count": 8,
   "id": "c2fbd107-6f81-4fda-a528-43962501e266",
   "metadata": {},
   "outputs": [],
   "source": [
    "# Aufgabe 2 - Was ist der Höchst-, Mindest- und Durchschnittspreis der verkauften Autos?"
   ]
  },
  {
   "cell_type": "code",
   "execution_count": 9,
   "id": "d053fd1e-48de-4a10-a9da-68bc1273664c",
   "metadata": {},
   "outputs": [
    {
     "data": {
      "text/html": [
       "<div>\n",
       "<style scoped>\n",
       "    .dataframe tbody tr th:only-of-type {\n",
       "        vertical-align: middle;\n",
       "    }\n",
       "\n",
       "    .dataframe tbody tr th {\n",
       "        vertical-align: top;\n",
       "    }\n",
       "\n",
       "    .dataframe thead th {\n",
       "        text-align: right;\n",
       "    }\n",
       "</style>\n",
       "<table border=\"1\" class=\"dataframe\">\n",
       "  <thead>\n",
       "    <tr style=\"text-align: right;\">\n",
       "      <th></th>\n",
       "      <th>Alter</th>\n",
       "      <th>Geschlecht</th>\n",
       "      <th>Zeit</th>\n",
       "      <th>Einkommen</th>\n",
       "      <th>Preis</th>\n",
       "    </tr>\n",
       "  </thead>\n",
       "  <tbody>\n",
       "    <tr>\n",
       "      <th>count</th>\n",
       "      <td>1995.000000</td>\n",
       "      <td>1995.000000</td>\n",
       "      <td>1995.000000</td>\n",
       "      <td>1995.000000</td>\n",
       "      <td>1104.000000</td>\n",
       "    </tr>\n",
       "    <tr>\n",
       "      <th>mean</th>\n",
       "      <td>50.158396</td>\n",
       "      <td>0.611028</td>\n",
       "      <td>40.262657</td>\n",
       "      <td>59104.923060</td>\n",
       "      <td>88975.198714</td>\n",
       "    </tr>\n",
       "    <tr>\n",
       "      <th>std</th>\n",
       "      <td>11.913807</td>\n",
       "      <td>0.487639</td>\n",
       "      <td>11.621591</td>\n",
       "      <td>16209.529474</td>\n",
       "      <td>24464.067781</td>\n",
       "    </tr>\n",
       "    <tr>\n",
       "      <th>min</th>\n",
       "      <td>30.000000</td>\n",
       "      <td>0.000000</td>\n",
       "      <td>3.000000</td>\n",
       "      <td>14547.000000</td>\n",
       "      <td>21471.650000</td>\n",
       "    </tr>\n",
       "    <tr>\n",
       "      <th>25%</th>\n",
       "      <td>40.000000</td>\n",
       "      <td>0.000000</td>\n",
       "      <td>32.000000</td>\n",
       "      <td>47093.000000</td>\n",
       "      <td>70609.422500</td>\n",
       "    </tr>\n",
       "    <tr>\n",
       "      <th>50%</th>\n",
       "      <td>51.000000</td>\n",
       "      <td>1.000000</td>\n",
       "      <td>40.000000</td>\n",
       "      <td>59104.513014</td>\n",
       "      <td>88931.455000</td>\n",
       "    </tr>\n",
       "    <tr>\n",
       "      <th>75%</th>\n",
       "      <td>61.000000</td>\n",
       "      <td>1.000000</td>\n",
       "      <td>48.000000</td>\n",
       "      <td>70639.675007</td>\n",
       "      <td>107093.375000</td>\n",
       "    </tr>\n",
       "    <tr>\n",
       "      <th>max</th>\n",
       "      <td>70.000000</td>\n",
       "      <td>1.000000</td>\n",
       "      <td>80.000000</td>\n",
       "      <td>100769.000000</td>\n",
       "      <td>165482.310000</td>\n",
       "    </tr>\n",
       "  </tbody>\n",
       "</table>\n",
       "</div>"
      ],
      "text/plain": [
       "             Alter   Geschlecht         Zeit      Einkommen          Preis\n",
       "count  1995.000000  1995.000000  1995.000000    1995.000000    1104.000000\n",
       "mean     50.158396     0.611028    40.262657   59104.923060   88975.198714\n",
       "std      11.913807     0.487639    11.621591   16209.529474   24464.067781\n",
       "min      30.000000     0.000000     3.000000   14547.000000   21471.650000\n",
       "25%      40.000000     0.000000    32.000000   47093.000000   70609.422500\n",
       "50%      51.000000     1.000000    40.000000   59104.513014   88931.455000\n",
       "75%      61.000000     1.000000    48.000000   70639.675007  107093.375000\n",
       "max      70.000000     1.000000    80.000000  100769.000000  165482.310000"
      ]
     },
     "execution_count": 9,
     "metadata": {},
     "output_type": "execute_result"
    }
   ],
   "source": [
    "# Hier werden statistische Merkmale angezeigt\n",
    "df.describe()"
   ]
  },
  {
   "cell_type": "code",
   "execution_count": 10,
   "id": "76f7d7fd-85f9-4af2-89ec-23b486355bb2",
   "metadata": {},
   "outputs": [],
   "source": [
    "# Antwort: \n",
    "# Höchstpreis = 165.482,31 \n",
    "# Mindestpreis = 21.471,65\n",
    "# Durchschnittspreis = 88.975,20 "
   ]
  },
  {
   "cell_type": "code",
   "execution_count": 11,
   "id": "f250f92d-38f7-4a51-9b8a-7f6aaa8cd2ef",
   "metadata": {},
   "outputs": [],
   "source": [
    "# Aufgabe 3 - Wie hoch war der Gesamtumsatz?"
   ]
  },
  {
   "cell_type": "code",
   "execution_count": 12,
   "id": "37fb50d7-bf4b-4d2b-b834-ab48c83e733e",
   "metadata": {
    "scrolled": true
   },
   "outputs": [
    {
     "data": {
      "text/plain": [
       "98228619.38"
      ]
     },
     "execution_count": 12,
     "metadata": {},
     "output_type": "execute_result"
    }
   ],
   "source": [
    "# Alle Werte in der Spalte \"Preis\" werden summiert und einer Variable zugewiesen.\n",
    "gesamtumsatz = df.Preis.sum()\n",
    "\n",
    "# Anschließend wird der Wert der Variable ausgegeben\n",
    "gesamtumsatz"
   ]
  },
  {
   "cell_type": "code",
   "execution_count": 13,
   "id": "5f0216d5-71e1-49d6-bc11-5204c51bbc08",
   "metadata": {},
   "outputs": [],
   "source": [
    "# Antwort: Der Gesamtumsatz war 98.228.619,38 €"
   ]
  },
  {
   "cell_type": "code",
   "execution_count": 14,
   "id": "e4956096-d304-47cb-98e8-19a37ef2215f",
   "metadata": {},
   "outputs": [],
   "source": [
    "# Aufgabe 4 - Wie viele Autos wurden pro Bundesland verkauft?"
   ]
  },
  {
   "cell_type": "code",
   "execution_count": 15,
   "id": "ab36b436",
   "metadata": {
    "scrolled": true
   },
   "outputs": [
    {
     "data": {
      "text/html": [
       "<div>\n",
       "<style scoped>\n",
       "    .dataframe tbody tr th:only-of-type {\n",
       "        vertical-align: middle;\n",
       "    }\n",
       "\n",
       "    .dataframe tbody tr th {\n",
       "        vertical-align: top;\n",
       "    }\n",
       "\n",
       "    .dataframe thead th {\n",
       "        text-align: right;\n",
       "    }\n",
       "</style>\n",
       "<table border=\"1\" class=\"dataframe\">\n",
       "  <thead>\n",
       "    <tr style=\"text-align: right;\">\n",
       "      <th></th>\n",
       "      <th>Niederlassung</th>\n",
       "      <th>Verkaufte Autos</th>\n",
       "    </tr>\n",
       "  </thead>\n",
       "  <tbody>\n",
       "    <tr>\n",
       "      <th>0</th>\n",
       "      <td>Baden-Württemberg</td>\n",
       "      <td>205</td>\n",
       "    </tr>\n",
       "    <tr>\n",
       "      <th>1</th>\n",
       "      <td>Bayern</td>\n",
       "      <td>188</td>\n",
       "    </tr>\n",
       "    <tr>\n",
       "      <th>2</th>\n",
       "      <td>Berlin</td>\n",
       "      <td>126</td>\n",
       "    </tr>\n",
       "    <tr>\n",
       "      <th>3</th>\n",
       "      <td>Brandenburg</td>\n",
       "      <td>37</td>\n",
       "    </tr>\n",
       "    <tr>\n",
       "      <th>4</th>\n",
       "      <td>Düsseldorf</td>\n",
       "      <td>1</td>\n",
       "    </tr>\n",
       "    <tr>\n",
       "      <th>5</th>\n",
       "      <td>Hamburg</td>\n",
       "      <td>43</td>\n",
       "    </tr>\n",
       "    <tr>\n",
       "      <th>6</th>\n",
       "      <td>Hessen</td>\n",
       "      <td>96</td>\n",
       "    </tr>\n",
       "    <tr>\n",
       "      <th>7</th>\n",
       "      <td>Niedersachsen</td>\n",
       "      <td>96</td>\n",
       "    </tr>\n",
       "    <tr>\n",
       "      <th>8</th>\n",
       "      <td>Nordrhein-Westfalen</td>\n",
       "      <td>174</td>\n",
       "    </tr>\n",
       "    <tr>\n",
       "      <th>9</th>\n",
       "      <td>Sachsen</td>\n",
       "      <td>89</td>\n",
       "    </tr>\n",
       "    <tr>\n",
       "      <th>10</th>\n",
       "      <td>Thüringen</td>\n",
       "      <td>49</td>\n",
       "    </tr>\n",
       "  </tbody>\n",
       "</table>\n",
       "</div>"
      ],
      "text/plain": [
       "          Niederlassung  Verkaufte Autos\n",
       "0     Baden-Württemberg              205\n",
       "1                Bayern              188\n",
       "2                Berlin              126\n",
       "3           Brandenburg               37\n",
       "4            Düsseldorf                1\n",
       "5               Hamburg               43\n",
       "6                Hessen               96\n",
       "7         Niedersachsen               96\n",
       "8   Nordrhein-Westfalen              174\n",
       "9               Sachsen               89\n",
       "10            Thüringen               49"
      ]
     },
     "execution_count": 15,
     "metadata": {},
     "output_type": "execute_result"
    }
   ],
   "source": [
    "# Alle Werte in \"Preis\" einer jeweiligen \"Niederlassung\" werden gezählt.\n",
    "aufgabe_4 = df.groupby(\"Niederlassung\")[[\"Preis\"]].count().reset_index()\n",
    "\n",
    "aufgabe_4.rename(columns ={\"Preis\":\"Verkaufte Autos\"})\n",
    "\n",
    "# In der spalte \"Verkaufte Autos\" findet man wie viele Autos in der jeweiligen Niederlassung verkauft wurden"
   ]
  },
  {
   "cell_type": "code",
   "execution_count": 16,
   "id": "5dc2f6db",
   "metadata": {},
   "outputs": [
    {
     "data": {
      "text/plain": [
       "1104"
      ]
     },
     "execution_count": 16,
     "metadata": {},
     "output_type": "execute_result"
    }
   ],
   "source": [
    "# Ein test um sicher zu gehen dass die bisherigen Werte stimmen\n",
    "# Summe der verkäufe der Niederlassungen muss Summe der gesamten Verkäufe entsprächen.\n",
    "aufgabe_4.Preis.sum()\n",
    "# Deckt sich mit bisherigen ergebnissen"
   ]
  },
  {
   "cell_type": "code",
   "execution_count": 17,
   "id": "4632a6b0-13ec-4323-b40c-1b2e29ff867e",
   "metadata": {},
   "outputs": [],
   "source": [
    "#Aufgabe 5 - Wie hoch war der durchschnittliche Umsatz pro Bundesland"
   ]
  },
  {
   "cell_type": "code",
   "execution_count": 18,
   "id": "55336968",
   "metadata": {
    "scrolled": true
   },
   "outputs": [
    {
     "data": {
      "text/html": [
       "<div>\n",
       "<style scoped>\n",
       "    .dataframe tbody tr th:only-of-type {\n",
       "        vertical-align: middle;\n",
       "    }\n",
       "\n",
       "    .dataframe tbody tr th {\n",
       "        vertical-align: top;\n",
       "    }\n",
       "\n",
       "    .dataframe thead th {\n",
       "        text-align: right;\n",
       "    }\n",
       "</style>\n",
       "<table border=\"1\" class=\"dataframe\">\n",
       "  <thead>\n",
       "    <tr style=\"text-align: right;\">\n",
       "      <th></th>\n",
       "      <th>Niederlassung</th>\n",
       "      <th>D. Umsatz</th>\n",
       "    </tr>\n",
       "  </thead>\n",
       "  <tbody>\n",
       "    <tr>\n",
       "      <th>0</th>\n",
       "      <td>Baden-Württemberg</td>\n",
       "      <td>90969.560000</td>\n",
       "    </tr>\n",
       "    <tr>\n",
       "      <th>1</th>\n",
       "      <td>Bayern</td>\n",
       "      <td>89344.313245</td>\n",
       "    </tr>\n",
       "    <tr>\n",
       "      <th>2</th>\n",
       "      <td>Berlin</td>\n",
       "      <td>89584.984048</td>\n",
       "    </tr>\n",
       "    <tr>\n",
       "      <th>3</th>\n",
       "      <td>Brandenburg</td>\n",
       "      <td>86673.640811</td>\n",
       "    </tr>\n",
       "    <tr>\n",
       "      <th>4</th>\n",
       "      <td>Düsseldorf</td>\n",
       "      <td>120215.500000</td>\n",
       "    </tr>\n",
       "    <tr>\n",
       "      <th>5</th>\n",
       "      <td>Hamburg</td>\n",
       "      <td>85549.499070</td>\n",
       "    </tr>\n",
       "    <tr>\n",
       "      <th>6</th>\n",
       "      <td>Hessen</td>\n",
       "      <td>85864.929479</td>\n",
       "    </tr>\n",
       "    <tr>\n",
       "      <th>7</th>\n",
       "      <td>Niedersachsen</td>\n",
       "      <td>87963.312500</td>\n",
       "    </tr>\n",
       "    <tr>\n",
       "      <th>8</th>\n",
       "      <td>Nordrhein-Westfalen</td>\n",
       "      <td>88451.758103</td>\n",
       "    </tr>\n",
       "    <tr>\n",
       "      <th>9</th>\n",
       "      <td>Sachsen</td>\n",
       "      <td>89455.080674</td>\n",
       "    </tr>\n",
       "    <tr>\n",
       "      <th>10</th>\n",
       "      <td>Thüringen</td>\n",
       "      <td>90816.994082</td>\n",
       "    </tr>\n",
       "  </tbody>\n",
       "</table>\n",
       "</div>"
      ],
      "text/plain": [
       "          Niederlassung      D. Umsatz\n",
       "0     Baden-Württemberg   90969.560000\n",
       "1                Bayern   89344.313245\n",
       "2                Berlin   89584.984048\n",
       "3           Brandenburg   86673.640811\n",
       "4            Düsseldorf  120215.500000\n",
       "5               Hamburg   85549.499070\n",
       "6                Hessen   85864.929479\n",
       "7         Niedersachsen   87963.312500\n",
       "8   Nordrhein-Westfalen   88451.758103\n",
       "9               Sachsen   89455.080674\n",
       "10            Thüringen   90816.994082"
      ]
     },
     "execution_count": 18,
     "metadata": {},
     "output_type": "execute_result"
    }
   ],
   "source": [
    "# Es wird der Durschnitt aller Werte der jeweiligen Niederlassung berechnet.\n",
    "aufgabe_5 = df.groupby(\"Niederlassung\")[[\"Preis\"]].mean().reset_index()\n",
    "aufgabe_5.rename(columns ={\"Preis\":\"D. Umsatz\"})\n",
    "#In der Spalte \"D. Umsatz\" stehen alle Durschnitswerte der jeweiligen Niederlassungen."
   ]
  },
  {
   "cell_type": "code",
   "execution_count": 19,
   "id": "4d319bf9",
   "metadata": {},
   "outputs": [],
   "source": [
    "#Aufgabe 6 - In welchem Bundesland wurde das teuerste Auto verkauft?"
   ]
  },
  {
   "cell_type": "code",
   "execution_count": 20,
   "id": "6379dfd8",
   "metadata": {},
   "outputs": [
    {
     "data": {
      "text/plain": [
       "Niederlassung    Thüringen\n",
       "Preis            165482.31\n",
       "dtype: object"
      ]
     },
     "execution_count": 20,
     "metadata": {},
     "output_type": "execute_result"
    }
   ],
   "source": [
    "# Es wird der Maximalwert der jeweiligen Niederlassungen ausgegeben.\n",
    "aufgabe_6 = df.groupby(\"Niederlassung\")[[\"Preis\"]].max().reset_index()\n",
    "\n",
    "#Hier geben wir den Maximalwert der Niederlassungen aus. Also das Bundesland, das das Teuerste Auto verkauft hat.\n",
    "aufgabe_6.max()"
   ]
  },
  {
   "cell_type": "code",
   "execution_count": 21,
   "id": "22929d62",
   "metadata": {},
   "outputs": [],
   "source": [
    "#Aufgabe 7 - Haben mehr Frauen oder Männer unsere Autos gekauft?"
   ]
  },
  {
   "cell_type": "code",
   "execution_count": 22,
   "id": "62b41603",
   "metadata": {},
   "outputs": [
    {
     "data": {
      "text/html": [
       "<div>\n",
       "<style scoped>\n",
       "    .dataframe tbody tr th:only-of-type {\n",
       "        vertical-align: middle;\n",
       "    }\n",
       "\n",
       "    .dataframe tbody tr th {\n",
       "        vertical-align: top;\n",
       "    }\n",
       "\n",
       "    .dataframe thead th {\n",
       "        text-align: right;\n",
       "    }\n",
       "</style>\n",
       "<table border=\"1\" class=\"dataframe\">\n",
       "  <thead>\n",
       "    <tr style=\"text-align: right;\">\n",
       "      <th></th>\n",
       "      <th>Geschlecht</th>\n",
       "      <th>Gekaufte Autos</th>\n",
       "    </tr>\n",
       "  </thead>\n",
       "  <tbody>\n",
       "    <tr>\n",
       "      <th>0</th>\n",
       "      <td>0</td>\n",
       "      <td>400</td>\n",
       "    </tr>\n",
       "    <tr>\n",
       "      <th>1</th>\n",
       "      <td>1</td>\n",
       "      <td>704</td>\n",
       "    </tr>\n",
       "  </tbody>\n",
       "</table>\n",
       "</div>"
      ],
      "text/plain": [
       "   Geschlecht  Gekaufte Autos\n",
       "0           0             400\n",
       "1           1             704"
      ]
     },
     "execution_count": 22,
     "metadata": {},
     "output_type": "execute_result"
    }
   ],
   "source": [
    "# Geschlecht gruppiert nach Anzahl an Preis einträgen.\n",
    "aufgabe_7 = df.groupby(\"Geschlecht\")[[\"Preis\"]].count().reset_index()\n",
    "\n",
    "#In der Ausgabe erkennt man dass Frauen (0) 400 mal ein Auto gekauft haben und Männer(1) 704 mal.\n",
    "\n",
    "aufgabe_7.rename(columns ={\"Preis\":\"Gekaufte Autos\"})\n",
    "# Männer haben mehr Autos gekauft als Frauen."
   ]
  },
  {
   "cell_type": "code",
   "execution_count": 23,
   "id": "867b2c43",
   "metadata": {},
   "outputs": [],
   "source": [
    "# Aufgabe 8 - Wie hoch ist das Durchschnittsalter unserer Kunden? \n",
    "#             Wie hoch ist das Durchschnittsalter unserer Besucher?"
   ]
  },
  {
   "cell_type": "code",
   "execution_count": 24,
   "id": "913eb699",
   "metadata": {},
   "outputs": [
    {
     "data": {
      "text/html": [
       "<div>\n",
       "<style scoped>\n",
       "    .dataframe tbody tr th:only-of-type {\n",
       "        vertical-align: middle;\n",
       "    }\n",
       "\n",
       "    .dataframe tbody tr th {\n",
       "        vertical-align: top;\n",
       "    }\n",
       "\n",
       "    .dataframe thead th {\n",
       "        text-align: right;\n",
       "    }\n",
       "</style>\n",
       "<table border=\"1\" class=\"dataframe\">\n",
       "  <thead>\n",
       "    <tr style=\"text-align: right;\">\n",
       "      <th></th>\n",
       "      <th>Kunde</th>\n",
       "      <th>Alter</th>\n",
       "    </tr>\n",
       "  </thead>\n",
       "  <tbody>\n",
       "    <tr>\n",
       "      <th>0</th>\n",
       "      <td>False</td>\n",
       "      <td>49.88</td>\n",
       "    </tr>\n",
       "    <tr>\n",
       "      <th>1</th>\n",
       "      <td>True</td>\n",
       "      <td>50.38</td>\n",
       "    </tr>\n",
       "  </tbody>\n",
       "</table>\n",
       "</div>"
      ],
      "text/plain": [
       "   Kunde  Alter\n",
       "0  False  49.88\n",
       "1   True  50.38"
      ]
     },
     "execution_count": 24,
     "metadata": {},
     "output_type": "execute_result"
    }
   ],
   "source": [
    "# Der Dataframe wird um eine Reihe erweitert mit der Information ob es sich um einen Kunden oder Besucher handelt\n",
    "df = df.assign(Kunde = df[\"Preis\"].notna())\n",
    "\n",
    "# Gruppierung nach dem Kundenstatus \"Kunde\" und berechnung des auf zwei Nachkommastellen gerundeten Durschnittsalters.\n",
    "aufgabe_8 = df.groupby(\"Kunde\")[[\"Alter\"]].mean().reset_index().round(2)\n",
    "\n",
    "aufgabe_8\n",
    "# Kunden sind im Schnitt 50,38 und Besucher im Schnitt 49,88 Jahre alt."
   ]
  },
  {
   "cell_type": "code",
   "execution_count": 25,
   "id": "3f16a065",
   "metadata": {},
   "outputs": [],
   "source": [
    "#Aufgabe 9 - Wie hoch ist das Durchschnittseinkommen unserer Kunden? \n",
    "#            Wie hoch ist das Durchschnittseinkommen unserer Besucher?"
   ]
  },
  {
   "cell_type": "code",
   "execution_count": 26,
   "id": "c8074df2",
   "metadata": {},
   "outputs": [
    {
     "data": {
      "text/html": [
       "<div>\n",
       "<style scoped>\n",
       "    .dataframe tbody tr th:only-of-type {\n",
       "        vertical-align: middle;\n",
       "    }\n",
       "\n",
       "    .dataframe tbody tr th {\n",
       "        vertical-align: top;\n",
       "    }\n",
       "\n",
       "    .dataframe thead th {\n",
       "        text-align: right;\n",
       "    }\n",
       "</style>\n",
       "<table border=\"1\" class=\"dataframe\">\n",
       "  <thead>\n",
       "    <tr style=\"text-align: right;\">\n",
       "      <th></th>\n",
       "      <th>Kunde</th>\n",
       "      <th>Durchschnittseinkommen</th>\n",
       "    </tr>\n",
       "  </thead>\n",
       "  <tbody>\n",
       "    <tr>\n",
       "      <th>0</th>\n",
       "      <td>False</td>\n",
       "      <td>59419.66</td>\n",
       "    </tr>\n",
       "    <tr>\n",
       "      <th>1</th>\n",
       "      <td>True</td>\n",
       "      <td>58850.91</td>\n",
       "    </tr>\n",
       "  </tbody>\n",
       "</table>\n",
       "</div>"
      ],
      "text/plain": [
       "   Kunde  Durchschnittseinkommen\n",
       "0  False                59419.66\n",
       "1   True                58850.91"
      ]
     },
     "execution_count": 26,
     "metadata": {},
     "output_type": "execute_result"
    }
   ],
   "source": [
    "# Gruppieren nach dem Kundenstatus und berechnung des Durchschnittseinkommen.\n",
    "aufgabe_9 = df.groupby(\"Kunde\")[[\"Einkommen\"]].mean().reset_index()\n",
    "\n",
    "# Die Ausgabe anzeigen lassen mit angepasstem Spaltentitel zu \"Durchschnittseinkommen\" und einem auf zwei Stellen gerundetem Wert.\n",
    "aufgabe_9.rename(columns ={\"Einkommen\":\"Durchschnittseinkommen\"}).round(2)"
   ]
  },
  {
   "cell_type": "code",
   "execution_count": 27,
   "id": "cc64a037",
   "metadata": {},
   "outputs": [],
   "source": [
    "#Aufgabe 10 - Bestimmen Sie ob es einen statistisch signifikanten Unterschied \n",
    "#             zwischen dem Durschnittseinkommen der Kunden und dem Durchscnittseinkommen der Besucher gibt. "
   ]
  },
  {
   "cell_type": "code",
   "execution_count": 28,
   "id": "aded1f2e",
   "metadata": {},
   "outputs": [
    {
     "data": {
      "text/plain": [
       "TtestResult(statistic=array([-0.7790477]), pvalue=array([0.43604411]), df=array([1993.]))"
      ]
     },
     "execution_count": 28,
     "metadata": {},
     "output_type": "execute_result"
    }
   ],
   "source": [
    "# Die Nullhypothese: \n",
    "# H0: μ 1 = μ 2 (die beiden Populationsmittelwerte sind gleich)\n",
    "# Die Allternativhypothese: \n",
    "# H1: μ 1 ≠ μ 2 (die beiden Populationsmittelwerte sind nicht gleich)\n",
    "\n",
    "#T-Test Funktion von scipy.stats importieren \n",
    "from scipy.stats import ttest_ind\n",
    "\n",
    "# Daten vorbereiten für die Funktion. Wir benötigen input a und b mit jeweils den Werten der zuvergleichenden Daten.\n",
    "# Erstellen eines neuen Dataframes mit jeweils den Einkommen der Kunden und der Besucher\n",
    "a_kunde = df.loc[df[\"Kunde\"] == True, [\"Einkommen\"]]\n",
    "b_besucher = df.loc[df[\"Kunde\"] == False, [\"Einkommen\"]]\n",
    "#Wir setzen die Einkommen der Kunden und Besucher in die Funktion ein und geben an dass die Varianz gleich ist.\n",
    "t_test = ttest_ind(a=a_kunde, b=b_besucher, equal_var=True)\n",
    "t_test\n",
    "\n",
    "# Interpretation der Ergebnisse:\n",
    "# Das signifikanzniveau (pvalue) ist 0.44 uns somit > 0.05.\n",
    "# Wir könen die Nullhypothese des tests nicht ablehnen. \n",
    "# Somit gilt: H0| μ 1 = μ 2 (die beiden Populationsmittelwerte sind gleich)\n",
    "# Es gibt keinen statistisch signifikanten Unterschied \n",
    "# zwischen dem Durschnittseinkommen der Kunden und dem Durchscnittseinkommen der Besucher.\n"
   ]
  },
  {
   "cell_type": "code",
   "execution_count": 29,
   "id": "171e2cf7",
   "metadata": {},
   "outputs": [],
   "source": [
    "#Aufgabe 11 - Wie hoch ist die Korrelation (Pearson-Korrelation) zwischen den Variablen Alter, Einkommen, Preis und Zeit?\n",
    "#             (Nur für Kunden)"
   ]
  },
  {
   "cell_type": "code",
   "execution_count": 30,
   "id": "ad11aed0",
   "metadata": {
    "scrolled": true
   },
   "outputs": [
    {
     "name": "stdout",
     "output_type": "stream",
     "text": [
      "Korrelation von Alter, Einkommen, Preis und Zeit unserer Kunden:\n"
     ]
    },
    {
     "data": {
      "text/plain": [
       "{'Korrelation zwischen Alter und Einkommen': 0.76,\n",
       " 'Korrelation zwischen Alter und Preis': 0.78,\n",
       " 'Korrelation zwischen Alter und Zeit': 0.59,\n",
       " 'Korrelation zwischen Einkommen und Preis': 0.89,\n",
       " 'Korrelation zwischen Einkommen und Zeit': 0.78,\n",
       " 'Korrelation zwischen Preis und Zeit': 0.71}"
      ]
     },
     "execution_count": 30,
     "metadata": {},
     "output_type": "execute_result"
    }
   ],
   "source": [
    "# Erstellen eines Dataframes das nur Kundendaten beinhaltet.\n",
    "df_kunden = df.loc[df[\"Kunde\"] == True, [\"Alter\", \"Einkommen\", \"Preis\", \"Zeit\"]]\n",
    "# Definition von einem Dictionary in dem die Antworten gespeichert werden. Sowie Listen die beim folgenden for Loop unterstüzen.\n",
    "corr_dict = {}\n",
    "variablen = [\"Alter\", \"Einkommen\", \"Preis\", \"Zeit\"]\n",
    "overflow =[]\n",
    "# Ein for Loop der alle gegebenen Variablen nimmt und die Korrelation zwischen den Variablen berechnet.\n",
    "# Das Ergebniss wird auf zwei Nachkommastellen gerundet.\n",
    "for i in variablen:\n",
    "    for y in variablen:\n",
    "        if i != y:\n",
    "            if y not in overflow:\n",
    "                corr_dict[\"Korrelation zwischen \" + i +\" und \" +y] = df_kunden[i].corr(df[y]).round(2)\n",
    "                overflow.append(i)\n",
    "print(\"Korrelation von Alter, Einkommen, Preis und Zeit unserer Kunden:\" )           \n",
    "corr_dict\n",
    "# Alle Variablen Korrelieren positiv miteinander."
   ]
  },
  {
   "cell_type": "code",
   "execution_count": 31,
   "id": "762cb121-860d-4f99-bd3f-a898c3fc720e",
   "metadata": {},
   "outputs": [
    {
     "data": {
      "image/png": "[encoded data removed]",
      "text/plain": [
       "<Figure size 1000x800 with 2 Axes>"
      ]
     },
     "metadata": {},
     "output_type": "display_data"
    }
   ],
   "source": [
    "# Hier wird die Korrelation nochmal visuell dargestellt: \n",
    "corr_matrix = df_kunden.corr()\n",
    "\n",
    "# Erstellen der Heatmap\n",
    "fig, ax = plt.subplots(figsize=(10, 8))\n",
    "cax = ax.matshow(corr_matrix, cmap='coolwarm')\n",
    "\n",
    "# Farbbar hinzufügen\n",
    "fig.colorbar(cax)\n",
    "\n",
    "# Setzen der x- und y-Achsen-Ticks und -Labels\n",
    "ticks = np.arange(0, len(corr_matrix.columns), 1)\n",
    "ax.set_xticks(ticks)\n",
    "ax.set_yticks(ticks)\n",
    "ax.set_xticklabels(corr_matrix.columns)\n",
    "ax.set_yticklabels(corr_matrix.columns)\n",
    "\n",
    "# Annotieren der Zellen\n",
    "for i in range(len(corr_matrix.columns)):\n",
    "    for j in range(len(corr_matrix.columns)):\n",
    "        text = ax.text(j, i, round(corr_matrix.iloc[i, j], 2),\n",
    "                       ha=\"center\", va=\"center\", color=\"black\")\n",
    "\n",
    "# Setzen des Titels\n",
    "plt.title('Korrelation zwischen Alter, Einkommen, Preis und Zeit unserer Kunden')\n",
    "\n",
    "# Anzeigen der Heatmap\n",
    "plt.show()"
   ]
  },
  {
   "cell_type": "code",
   "execution_count": 32,
   "id": "3c40d8db",
   "metadata": {},
   "outputs": [],
   "source": [
    "# Aufgabe 12 - Testen Sie grafisch mit Hilfe eines qq-Plos, ob die Variable Zeit approximativ normalverteilt ist."
   ]
  },
  {
   "cell_type": "code",
   "execution_count": 33,
   "id": "cb236bdc",
   "metadata": {},
   "outputs": [
    {
     "data": {
      "image/png": "[encoded data removed]",
      "text/plain": [
       "<Figure size 640x480 with 1 Axes>"
      ]
     },
     "metadata": {},
     "output_type": "display_data"
    }
   ],
   "source": [
    "# Mit statsmodels erzeugen wir einen qq Plot unserer Zeit Variable und legen die Normalvertielung (Rotelinie) darüber.\n",
    "# Zu sehen ist, dass die Variable Zeit approximativ normalverteilt ist.\n",
    "sm.qqplot(df[\"Zeit\"], line=\"s\")\n",
    "plt.show()"
   ]
  },
  {
   "cell_type": "code",
   "execution_count": 34,
   "id": "15a2f1ec",
   "metadata": {},
   "outputs": [],
   "source": [
    "#Aufgabe 13 - Wie viele Kunden haben keinen Bankkredit aufgenommen, um das Auto zu kaufen? \n",
    "#             Die Kundenabteilung hat vergessen, diese Informatonen zu erfassen. \n",
    "#             Wir können davon ausgehen, dass die Kunden mit einem Jahreseinkommen höher als der Autopreis keinen Kredit aufgenommen haben."
   ]
  },
  {
   "cell_type": "code",
   "execution_count": 35,
   "id": "8e2d642c",
   "metadata": {
    "scrolled": true
   },
   "outputs": [
    {
     "name": "stdout",
     "output_type": "stream",
     "text": [
      "Es haben 1099 Kunden einen Bankkredit genutzt.\n"
     ]
    }
   ],
   "source": [
    "# Bezug auf das vorherig erstellte DataFrame das nur Kundendaten enthält\n",
    "# Mit dr Funktion np.where erzeugen wir in diesem df_kunden eine neue Spalte mit der \n",
    "# Bedingung, dass das Einkommen größer als der Preis sein muss. Um Fehler zu vermeiden, fragen wir ab ob der Preis > 1 ist.\n",
    "df_kunden[\"Kredit\"] = np.where((df_kunden[\"Einkommen\"] < df_kunden[\"Preis\"]) & (df_kunden[\"Preis\"] > 1),1,0)\n",
    "aufgabe_13 = str(df_kunden.Kredit.sum())\n",
    "print(\"Es haben \" + aufgabe_13 + \" Kunden einen Bankkredit genutzt.\")\n",
    "\n",
    "#Es haben 1099 Kunden einen Bankkredit genutzt"
   ]
  },
  {
   "cell_type": "code",
   "execution_count": 36,
   "id": "66529e8b",
   "metadata": {},
   "outputs": [],
   "source": [
    "# Aufgabe 14 - Welche sozioökonomischen Merkmale beeinflussen den Kaufpreis? \n",
    "#              Wählen Sie die geeigneten unabhängigen Variablen aus und schätzen Sie eine Regression \n",
    "#              unter Verwendung der geeigneten Methode \n",
    "#              (Verwenden Sie die Bibliothek statsmodel und nicht sklearn.)"
   ]
  },
  {
   "cell_type": "code",
   "execution_count": 37,
   "id": "6baa3c25",
   "metadata": {},
   "outputs": [
    {
     "data": {
      "text/html": [
       "<table class=\"simpletable\">\n",
       "<caption>OLS Regression Results</caption>\n",
       "<tr>\n",
       "  <th>Dep. Variable:</th>          <td>Preis</td>      <th>  R-squared:         </th> <td>   0.820</td> \n",
       "</tr>\n",
       "<tr>\n",
       "  <th>Model:</th>                   <td>OLS</td>       <th>  Adj. R-squared:    </th> <td>   0.820</td> \n",
       "</tr>\n",
       "<tr>\n",
       "  <th>Method:</th>             <td>Least Squares</td>  <th>  F-statistic:       </th> <td>   2508.</td> \n",
       "</tr>\n",
       "<tr>\n",
       "  <th>Date:</th>             <td>Tue, 25 Jun 2024</td> <th>  Prob (F-statistic):</th>  <td>  0.00</td>  \n",
       "</tr>\n",
       "<tr>\n",
       "  <th>Time:</th>                 <td>09:49:07</td>     <th>  Log-Likelihood:    </th> <td> -11775.</td> \n",
       "</tr>\n",
       "<tr>\n",
       "  <th>No. Observations:</th>      <td>  1104</td>      <th>  AIC:               </th> <td>2.356e+04</td>\n",
       "</tr>\n",
       "<tr>\n",
       "  <th>Df Residuals:</th>          <td>  1101</td>      <th>  BIC:               </th> <td>2.357e+04</td>\n",
       "</tr>\n",
       "<tr>\n",
       "  <th>Df Model:</th>              <td>     2</td>      <th>                     </th>     <td> </td>    \n",
       "</tr>\n",
       "<tr>\n",
       "  <th>Covariance Type:</th>      <td>nonrobust</td>    <th>                     </th>     <td> </td>    \n",
       "</tr>\n",
       "</table>\n",
       "<table class=\"simpletable\">\n",
       "<tr>\n",
       "      <td></td>         <th>coef</th>     <th>std err</th>      <th>t</th>      <th>P>|t|</th>  <th>[0.025</th>    <th>0.975]</th>  \n",
       "</tr>\n",
       "<tr>\n",
       "  <th>const</th>     <td> 2036.5329</td> <td> 1366.681</td> <td>    1.490</td> <td> 0.136</td> <td> -645.060</td> <td> 4718.125</td>\n",
       "</tr>\n",
       "<tr>\n",
       "  <th>Alter</th>     <td>  497.2375</td> <td>   40.345</td> <td>   12.325</td> <td> 0.000</td> <td>  418.076</td> <td>  576.399</td>\n",
       "</tr>\n",
       "<tr>\n",
       "  <th>Einkommen</th> <td>    1.0516</td> <td>    0.029</td> <td>   35.857</td> <td> 0.000</td> <td>    0.994</td> <td>    1.109</td>\n",
       "</tr>\n",
       "</table>\n",
       "<table class=\"simpletable\">\n",
       "<tr>\n",
       "  <th>Omnibus:</th>       <td>42.881</td> <th>  Durbin-Watson:     </th> <td>   2.109</td>\n",
       "</tr>\n",
       "<tr>\n",
       "  <th>Prob(Omnibus):</th> <td> 0.000</td> <th>  Jarque-Bera (JB):  </th> <td>  84.646</td>\n",
       "</tr>\n",
       "<tr>\n",
       "  <th>Skew:</th>          <td> 0.254</td> <th>  Prob(JB):          </th> <td>4.16e-19</td>\n",
       "</tr>\n",
       "<tr>\n",
       "  <th>Kurtosis:</th>      <td> 4.258</td> <th>  Cond. No.          </th> <td>2.67e+05</td>\n",
       "</tr>\n",
       "</table><br/><br/>Notes:<br/>[1] Standard Errors assume that the covariance matrix of the errors is correctly specified.<br/>[2] The condition number is large, 2.67e+05. This might indicate that there are<br/>strong multicollinearity or other numerical problems."
      ],
      "text/latex": [
       "\\begin{center}\n",
       "\\begin{tabular}{lclc}\n",
       "\\toprule\n",
       "\\textbf{Dep. Variable:}    &      Preis       & \\textbf{  R-squared:         } &     0.820   \\\\\n",
       "\\textbf{Model:}            &       OLS        & \\textbf{  Adj. R-squared:    } &     0.820   \\\\\n",
       "\\textbf{Method:}           &  Least Squares   & \\textbf{  F-statistic:       } &     2508.   \\\\\n",
       "\\textbf{Date:}             & Tue, 25 Jun 2024 & \\textbf{  Prob (F-statistic):} &     0.00    \\\\\n",
       "\\textbf{Time:}             &     09:49:07     & \\textbf{  Log-Likelihood:    } &   -11775.   \\\\\n",
       "\\textbf{No. Observations:} &        1104      & \\textbf{  AIC:               } & 2.356e+04   \\\\\n",
       "\\textbf{Df Residuals:}     &        1101      & \\textbf{  BIC:               } & 2.357e+04   \\\\\n",
       "\\textbf{Df Model:}         &           2      & \\textbf{                     } &             \\\\\n",
       "\\textbf{Covariance Type:}  &    nonrobust     & \\textbf{                     } &             \\\\\n",
       "\\bottomrule\n",
       "\\end{tabular}\n",
       "\\begin{tabular}{lcccccc}\n",
       "                   & \\textbf{coef} & \\textbf{std err} & \\textbf{t} & \\textbf{P$> |$t$|$} & \\textbf{[0.025} & \\textbf{0.975]}  \\\\\n",
       "\\midrule\n",
       "\\textbf{const}     &    2036.5329  &     1366.681     &     1.490  &         0.136        &     -645.060    &     4718.125     \\\\\n",
       "\\textbf{Alter}     &     497.2375  &       40.345     &    12.325  &         0.000        &      418.076    &      576.399     \\\\\n",
       "\\textbf{Einkommen} &       1.0516  &        0.029     &    35.857  &         0.000        &        0.994    &        1.109     \\\\\n",
       "\\bottomrule\n",
       "\\end{tabular}\n",
       "\\begin{tabular}{lclc}\n",
       "\\textbf{Omnibus:}       & 42.881 & \\textbf{  Durbin-Watson:     } &    2.109  \\\\\n",
       "\\textbf{Prob(Omnibus):} &  0.000 & \\textbf{  Jarque-Bera (JB):  } &   84.646  \\\\\n",
       "\\textbf{Skew:}          &  0.254 & \\textbf{  Prob(JB):          } & 4.16e-19  \\\\\n",
       "\\textbf{Kurtosis:}      &  4.258 & \\textbf{  Cond. No.          } & 2.67e+05  \\\\\n",
       "\\bottomrule\n",
       "\\end{tabular}\n",
       "%\\caption{OLS Regression Results}\n",
       "\\end{center}\n",
       "\n",
       "Notes: \\newline\n",
       " [1] Standard Errors assume that the covariance matrix of the errors is correctly specified. \\newline\n",
       " [2] The condition number is large, 2.67e+05. This might indicate that there are \\newline\n",
       " strong multicollinearity or other numerical problems."
      ],
      "text/plain": [
       "<class 'statsmodels.iolib.summary.Summary'>\n",
       "\"\"\"\n",
       "                            OLS Regression Results                            \n",
       "==============================================================================\n",
       "Dep. Variable:                  Preis   R-squared:                       0.820\n",
       "Model:                            OLS   Adj. R-squared:                  0.820\n",
       "Method:                 Least Squares   F-statistic:                     2508.\n",
       "Date:                Tue, 25 Jun 2024   Prob (F-statistic):               0.00\n",
       "Time:                        09:49:07   Log-Likelihood:                -11775.\n",
       "No. Observations:                1104   AIC:                         2.356e+04\n",
       "Df Residuals:                    1101   BIC:                         2.357e+04\n",
       "Df Model:                           2                                         \n",
       "Covariance Type:            nonrobust                                         \n",
       "==============================================================================\n",
       "                 coef    std err          t      P>|t|      [0.025      0.975]\n",
       "------------------------------------------------------------------------------\n",
       "const       2036.5329   1366.681      1.490      0.136    -645.060    4718.125\n",
       "Alter        497.2375     40.345     12.325      0.000     418.076     576.399\n",
       "Einkommen      1.0516      0.029     35.857      0.000       0.994       1.109\n",
       "==============================================================================\n",
       "Omnibus:                       42.881   Durbin-Watson:                   2.109\n",
       "Prob(Omnibus):                  0.000   Jarque-Bera (JB):               84.646\n",
       "Skew:                           0.254   Prob(JB):                     4.16e-19\n",
       "Kurtosis:                       4.258   Cond. No.                     2.67e+05\n",
       "==============================================================================\n",
       "\n",
       "Notes:\n",
       "[1] Standard Errors assume that the covariance matrix of the errors is correctly specified.\n",
       "[2] The condition number is large, 2.67e+05. This might indicate that there are\n",
       "strong multicollinearity or other numerical problems.\n",
       "\"\"\""
      ]
     },
     "execution_count": 37,
     "metadata": {},
     "output_type": "execute_result"
    }
   ],
   "source": [
    "# Auswahl der abhängigen und unabhängigen Variablen\n",
    "unabhängigeVar = df_kunden[[\"Alter\", \"Einkommen\"]]  \n",
    "abhängigeVar = df_kunden[\"Preis\"]\n",
    "\n",
    "# Hinzufügen einer Konstanten zur Input-Matrix\n",
    "unabhängigeVar = sm.add_constant(unabhängigeVar)\n",
    "\n",
    "# Regression durchführen\n",
    "model = sm.OLS(abhängigeVar, unabhängigeVar).fit()\n",
    "results = model.summary()\n",
    "results"
   ]
  },
  {
   "cell_type": "code",
   "execution_count": 38,
   "id": "51b7b17f-621d-4997-877c-8273e243ff82",
   "metadata": {},
   "outputs": [],
   "source": [
    "# Antwort: \n",
    "# Sowohl das Alter als auch das Einkommen beeinflussen den Kaufpreis signifikant. Je älter oder je mehr Einkommen ein Kunde ist/hat\n",
    "# desto höher ist der Kaufpreis. Durch den relativ hohen Wert von 0.820 für R-squared kann man sagen, dass das Modell gut geeignet ist,\n",
    "# um den Kaufpreis zu erklären. "
   ]
  },
  {
   "cell_type": "code",
   "execution_count": 39,
   "id": "a380340f-2750-4701-8ffa-a34fd2483335",
   "metadata": {},
   "outputs": [],
   "source": [
    "# Aufgabe 15 - Prognostizieren Sie den Kaufpreis eines unserer Autos für einen männlichen Kunden im Alter von 32 Jahren mit einem Einkommen \n",
    "# von 30.000 Euro. Prognostizieren Sie den Kauf- preis eines unserer Autos für einen männlichen Kunden im Alter von 51 Jahren und mit einem \n",
    "# Einkommen von 54.000 Euro."
   ]
  },
  {
   "cell_type": "code",
   "execution_count": 40,
   "id": "b52034a5-1fd6-4e6f-8761-9691b31cb348",
   "metadata": {},
   "outputs": [
    {
     "name": "stdout",
     "output_type": "stream",
     "text": [
      "Prognostizierter Kaufpreis für einen 32-jährigen Kunden mit einem Einkommen von 30.000 Euro: 49495.68 Euro\n",
      "Prognostizierter Kaufpreis für einen 51-jährigen Kunden mit einem Einkommen von 54.000 Euro: 84181.23 Euro\n"
     ]
    },
    {
     "name": "stderr",
     "output_type": "stream",
     "text": [
      "/opt/anaconda3/lib/python3.11/site-packages/sklearn/base.py:439: UserWarning: X does not have valid feature names, but LinearRegression was fitted with feature names\n",
      "  warnings.warn(\n",
      "/opt/anaconda3/lib/python3.11/site-packages/sklearn/base.py:439: UserWarning: X does not have valid feature names, but LinearRegression was fitted with feature names\n",
      "  warnings.warn(\n"
     ]
    }
   ],
   "source": [
    "# Features und Zielvariable definieren\n",
    "Kundeneigenschaften = df_kunden[['Alter', 'Einkommen']]\n",
    "Kaufpreis = df_kunden['Preis']\n",
    "\n",
    "# Lineares Regressionsmodell trainieren\n",
    "model = LinearRegression()\n",
    "model.fit(Kundeneigenschaften, Kaufpreis)\n",
    "\n",
    "# Prognose für den ersten Kunden (32 Jahre, 30.000 Euro Einkommen)\n",
    "kunde1 = np.array([[32, 30000]])\n",
    "prognose1 = model.predict(kunde1)\n",
    "\n",
    "# Prognose für den zweiten Kunden (51 Jahre, 54.000 Euro Einkommen)\n",
    "kunde2 = np.array([[51, 54000]])\n",
    "prognose2 = model.predict(kunde2)\n",
    "\n",
    "print(f'Prognostizierter Kaufpreis für einen 32-jährigen Kunden mit einem Einkommen von 30.000 Euro: {prognose1[0]:.2f} Euro')\n",
    "print(f'Prognostizierter Kaufpreis für einen 51-jährigen Kunden mit einem Einkommen von 54.000 Euro: {prognose2[0]:.2f} Euro')"
   ]
  },
  {
   "cell_type": "code",
   "execution_count": 41,
   "id": "3d9a3726-3d74-496e-8795-5ad321d13cc0",
   "metadata": {},
   "outputs": [],
   "source": [
    "# Aufgabe 16 - In Bezug auf die vorherige Frage: Welche Variable beeinflusst den Preis des Autos am meisten? Mit anderen Worten: \n",
    "# Die von Ihnen geschätzten Regressionskoeffizienten müs- sen direkt vergleichbar sein. Wie sollen die Daten transformiert werden?"
   ]
  },
  {
   "cell_type": "code",
   "execution_count": 44,
   "id": "71e5b7cf-aff9-4921-be88-c42142b9d68c",
   "metadata": {},
   "outputs": [
    {
     "name": "stdout",
     "output_type": "stream",
     "text": [
      "Standardisierter Koeffizient für Alter: 5940.7954\n",
      "Standardisierter Koeffizient für Einkommen: 17283.9133\n",
      "\n",
      "Prognostizierter Kaufpreis für einen 32-jährigen Kunden mit einem Einkommen von 30.000 Euro: 49495.68 Euro\n",
      "Prognostizierter Kaufpreis für einen 51-jährigen Kunden mit einem Einkommen von 54.000 Euro: 84181.23 Euro\n"
     ]
    },
    {
     "name": "stderr",
     "output_type": "stream",
     "text": [
      "/opt/anaconda3/lib/python3.11/site-packages/sklearn/base.py:439: UserWarning: X does not have valid feature names, but StandardScaler was fitted with feature names\n",
      "  warnings.warn(\n",
      "/opt/anaconda3/lib/python3.11/site-packages/sklearn/base.py:439: UserWarning: X does not have valid feature names, but StandardScaler was fitted with feature names\n",
      "  warnings.warn(\n"
     ]
    }
   ],
   "source": [
    "# Features und Zielvariable definieren\n",
    "Kundeneigenschaftenb = df_kunden[['Alter', 'Einkommen']]\n",
    "Kaufpreisb = df_kunden['Preis']\n",
    "\n",
    "# Standardisierung der Features\n",
    "scaler = StandardScaler()\n",
    "Kundeneigenschaftenb_scaled = scaler.fit_transform(Kundeneigenschaftenb)\n",
    "\n",
    "# Lineares Regressionsmodell trainieren mit standardisierten Daten\n",
    "model = LinearRegression()\n",
    "model.fit(Kundeneigenschaftenb_scaled, Kaufpreisb)\n",
    "\n",
    "# Regressionskoeffizienten\n",
    "coefficients = model.coef_\n",
    "\n",
    "# Ausgabe der Koeffizienten mit den zugehörigen Feature-Namen\n",
    "for feature, coef in zip(Kundeneigenschaftenb.columns, coefficients):\n",
    "    print(f'Standardisierter Koeffizient für {feature}: {coef:.4f}')\n",
    "\n",
    "# Prognose für den ersten Kunden (32 Jahre, 30.000 Euro Einkommen)\n",
    "kunde1 = scaler.transform(np.array([[32, 30000]]))\n",
    "prognose1 = model.predict(kunde1)\n",
    "\n",
    "# Prognose für den zweiten Kunden (51 Jahre, 54.000 Euro Einkommen)\n",
    "kunde2 = scaler.transform(np.array([[51, 54000]]))\n",
    "prognose2 = model.predict(kunde2)\n",
    "\n",
    "print(f'\\nPrognostizierter Kaufpreis für einen 32-jährigen Kunden mit einem Einkommen von 30.000 Euro: {prognose1[0]:.2f} Euro')\n",
    "print(f'Prognostizierter Kaufpreis für einen 51-jährigen Kunden mit einem Einkommen von 54.000 Euro: {prognose2[0]:.2f} Euro')\n"
   ]
  },
  {
   "cell_type": "code",
   "execution_count": null,
   "id": "b6ec6396-aa3f-4ab1-aa47-e35d181bf7a2",
   "metadata": {},
   "outputs": [],
   "source": [
    "# Aufgabe 17 - Schätzen Sie eine Regression, die die Wahrscheinlichkeit des Kaufs eines Autos ermittelt. \n",
    "# Verwenden Sie die entsprechende Methode."
   ]
  },
  {
   "cell_type": "code",
   "execution_count": 45,
   "id": "651cc06a-35bb-4fbd-9c05-af32ed7034b9",
   "metadata": {},
   "outputs": [
    {
     "ename": "ValueError",
     "evalue": "Unknown label type: 'continuous'",
     "output_type": "error",
     "traceback": [
      "\u001b[0;31m---------------------------------------------------------------------------\u001b[0m",
      "\u001b[0;31mValueError\u001b[0m                                Traceback (most recent call last)",
      "Cell \u001b[0;32mIn[45], line 11\u001b[0m\n\u001b[1;32m      9\u001b[0m \u001b[38;5;66;03m# Logistisches Regressionsmodell trainieren mit standardisierten Daten\u001b[39;00m\n\u001b[1;32m     10\u001b[0m model \u001b[38;5;241m=\u001b[39m LogisticRegression()\n\u001b[0;32m---> 11\u001b[0m model\u001b[38;5;241m.\u001b[39mfit(X_scaled, y)\n\u001b[1;32m     13\u001b[0m \u001b[38;5;66;03m# Wahrscheinlichkeiten des Kaufs für den ersten Kunden (32 Jahre, 30.000 Euro Einkommen)\u001b[39;00m\n\u001b[1;32m     14\u001b[0m kunde1 \u001b[38;5;241m=\u001b[39m scaler\u001b[38;5;241m.\u001b[39mtransform(np\u001b[38;5;241m.\u001b[39marray([[\u001b[38;5;241m32\u001b[39m, \u001b[38;5;241m30000\u001b[39m]]))\n",
      "File \u001b[0;32m/opt/anaconda3/lib/python3.11/site-packages/sklearn/linear_model/_logistic.py:1204\u001b[0m, in \u001b[0;36mLogisticRegression.fit\u001b[0;34m(self, X, y, sample_weight)\u001b[0m\n\u001b[1;32m   1194\u001b[0m     _dtype \u001b[38;5;241m=\u001b[39m [np\u001b[38;5;241m.\u001b[39mfloat64, np\u001b[38;5;241m.\u001b[39mfloat32]\n\u001b[1;32m   1196\u001b[0m X, y \u001b[38;5;241m=\u001b[39m \u001b[38;5;28mself\u001b[39m\u001b[38;5;241m.\u001b[39m_validate_data(\n\u001b[1;32m   1197\u001b[0m     X,\n\u001b[1;32m   1198\u001b[0m     y,\n\u001b[0;32m   (...)\u001b[0m\n\u001b[1;32m   1202\u001b[0m     accept_large_sparse\u001b[38;5;241m=\u001b[39msolver \u001b[38;5;129;01mnot\u001b[39;00m \u001b[38;5;129;01min\u001b[39;00m [\u001b[38;5;124m\"\u001b[39m\u001b[38;5;124mliblinear\u001b[39m\u001b[38;5;124m\"\u001b[39m, \u001b[38;5;124m\"\u001b[39m\u001b[38;5;124msag\u001b[39m\u001b[38;5;124m\"\u001b[39m, \u001b[38;5;124m\"\u001b[39m\u001b[38;5;124msaga\u001b[39m\u001b[38;5;124m\"\u001b[39m],\n\u001b[1;32m   1203\u001b[0m )\n\u001b[0;32m-> 1204\u001b[0m check_classification_targets(y)\n\u001b[1;32m   1205\u001b[0m \u001b[38;5;28mself\u001b[39m\u001b[38;5;241m.\u001b[39mclasses_ \u001b[38;5;241m=\u001b[39m np\u001b[38;5;241m.\u001b[39munique(y)\n\u001b[1;32m   1207\u001b[0m multi_class \u001b[38;5;241m=\u001b[39m _check_multi_class(\u001b[38;5;28mself\u001b[39m\u001b[38;5;241m.\u001b[39mmulti_class, solver, \u001b[38;5;28mlen\u001b[39m(\u001b[38;5;28mself\u001b[39m\u001b[38;5;241m.\u001b[39mclasses_))\n",
      "File \u001b[0;32m/opt/anaconda3/lib/python3.11/site-packages/sklearn/utils/multiclass.py:218\u001b[0m, in \u001b[0;36mcheck_classification_targets\u001b[0;34m(y)\u001b[0m\n\u001b[1;32m    210\u001b[0m y_type \u001b[38;5;241m=\u001b[39m type_of_target(y, input_name\u001b[38;5;241m=\u001b[39m\u001b[38;5;124m\"\u001b[39m\u001b[38;5;124my\u001b[39m\u001b[38;5;124m\"\u001b[39m)\n\u001b[1;32m    211\u001b[0m \u001b[38;5;28;01mif\u001b[39;00m y_type \u001b[38;5;129;01mnot\u001b[39;00m \u001b[38;5;129;01min\u001b[39;00m [\n\u001b[1;32m    212\u001b[0m     \u001b[38;5;124m\"\u001b[39m\u001b[38;5;124mbinary\u001b[39m\u001b[38;5;124m\"\u001b[39m,\n\u001b[1;32m    213\u001b[0m     \u001b[38;5;124m\"\u001b[39m\u001b[38;5;124mmulticlass\u001b[39m\u001b[38;5;124m\"\u001b[39m,\n\u001b[0;32m   (...)\u001b[0m\n\u001b[1;32m    216\u001b[0m     \u001b[38;5;124m\"\u001b[39m\u001b[38;5;124mmultilabel-sequences\u001b[39m\u001b[38;5;124m\"\u001b[39m,\n\u001b[1;32m    217\u001b[0m ]:\n\u001b[0;32m--> 218\u001b[0m     \u001b[38;5;28;01mraise\u001b[39;00m \u001b[38;5;167;01mValueError\u001b[39;00m(\u001b[38;5;124m\"\u001b[39m\u001b[38;5;124mUnknown label type: \u001b[39m\u001b[38;5;132;01m%r\u001b[39;00m\u001b[38;5;124m\"\u001b[39m \u001b[38;5;241m%\u001b[39m y_type)\n",
      "\u001b[0;31mValueError\u001b[0m: Unknown label type: 'continuous'"
     ]
    }
   ],
   "source": [
    "# Features und Zielvariable definieren\n",
    "X = df_kunden[['Alter', 'Einkommen']]\n",
    "y = df_kunden['Preis']\n",
    "\n",
    "# Standardisierung der Features\n",
    "scaler = StandardScaler()\n",
    "X_scaled = scaler.fit_transform(X)\n",
    "\n",
    "# Logistisches Regressionsmodell trainieren mit standardisierten Daten\n",
    "model = LogisticRegression()\n",
    "model.fit(X_scaled, y)\n",
    "\n",
    "# Wahrscheinlichkeiten des Kaufs für den ersten Kunden (32 Jahre, 30.000 Euro Einkommen)\n",
    "kunde1 = scaler.transform(np.array([[32, 30000]]))\n",
    "prognose1 = model.predict_proba(kunde1)[:, 1]\n",
    "\n",
    "# Wahrscheinlichkeiten des Kaufs für den zweiten Kunden (51 Jahre, 54.000 Euro Einkommen)\n",
    "kunde2 = scaler.transform(np.array([[51, 54000]]))\n",
    "prognose2 = model.predict_proba(kunde2)[:, 1]\n",
    "\n",
    "print(f'Wahrscheinlichkeit des Kaufs für einen 32-jährigen Kunden mit einem Einkommen von 30.000 Euro: {prognose1[0]:.2f}')\n",
    "print(f'Wahrscheinlichkeit des Kaufs für einen 51-jährigen Kunden mit einem Einkommen von 54.000 Euro: {prognose2[0]:.2f}')\n"
   ]
  },
  {
   "cell_type": "code",
   "execution_count": null,
   "id": "391ca737-bc3d-4979-8121-b94bf6e24fe7",
   "metadata": {},
   "outputs": [],
   "source": [
    "# Aufgabe 18 - Wie hoch ist die Wahrscheinlichkeit, dass ein 32-jähriger männlicher Kunde mit einem Einkommen von 30.000 Euro, der das \n",
    "# Auto 30 Minuten lang getestet hat, eines unserer Modelle kauft? Wie hoch ist die Wahrscheinlichkeit, dass ein 51-jähriger männlicher \n",
    "# Kunde mit einem Einkommen von 54.000 Euro, der das Auto 45 Minuten lang getestet hat, eines unserer Modelle kauft?"
   ]
  },
  {
   "cell_type": "code",
   "execution_count": null,
   "id": "7e1c674d-d462-4de4-9011-5c019ab39efb",
   "metadata": {},
   "outputs": [],
   "source": [
    "# Hier kommt noch der Teil von Kazim\n",
    "# Aufgabe 19 - Auf welche Probleme sind Sie bei der Zusammenführung des Datensatzes gestoßen? Stellen Sie die Operationen vor, \n",
    "# die Sie zum Zusammenführen und Bereinigen der Daten durchgeführt haben."
   ]
  },
  {
   "cell_type": "code",
   "execution_count": null,
   "id": "feaeca2a-a508-4654-9082-7457f1572682",
   "metadata": {},
   "outputs": [],
   "source": [
    "# Aufgabe 20 - Welche Vorschläge würden Sie der Kundenabteilung für die Umfrage im nächsten Jahr machen? \n",
    "# Welche zusätzlichen Informationen sollten gesammelt werden? Formulieren Sie zwei Vorschläge."
   ]
  },
  {
   "cell_type": "code",
   "execution_count": null,
   "id": "2acdfd53-3bb2-4273-9e6a-b63eedf264c6",
   "metadata": {},
   "outputs": [],
   "source": [
    "# Um die Vorhersagegenauigkeit und das Verständnis des Kundenverhaltens zu verbessern, würde ich der Kundenabteilung \n",
    "# die folgenden Vorschläge für die Umfrage im nächsten Jahr machen:\n",
    "\n",
    "# Vorschlag 1: Sammlung von Daten über das Kundenverhalten und die Kaufentscheidungsfaktoren\n",
    "\n",
    "# Zusätzliche Informationen:\n",
    "# -Motivationen für den Autokauf: Nach den Hauptgründen fragen, warum Kunden ein Auto kaufen möchten \n",
    "#                                 (z.B. berufliche Notwendigkeit, Freizeit, Familienerweiterung, etc.)\n",
    "# -Einflussfaktoren auf die Kaufentscheidung: Ermitteln, welche Faktoren die Kaufentscheidung am meisten beeinflussen \n",
    "#                                             (z.B. Preis-Leistungs-Verhältnis, Marke, technische Features, Nachhaltigkeit, \n",
    "#                                             Empfehlungen von Freunden/Familie).\n",
    "# -Kundenzufriedenheit mit dem Testfahrerlebnis: Bewerten Sie, wie zufrieden Kunden mit ihrem Testfahrerlebnis sind\n",
    "#                                                (z.B. Bewertung von 1-5).\n",
    "\n",
    "# Begründung: Diese zusätzlichen Informationen geben Einblicke in die Gründe und Motivationen hinter den Kaufentscheidungen der Kunden. \n",
    "#             Sie helfen auch zu verstehen, welche Aspekte des Autos und des Kaufprozesses am wichtigsten sind, sodass unser Autohaus \n",
    "#             seine Strategien anpassen kann, um die Bedürfnisse und Erwartungen der Kunden besser zu erfüllen.\n",
    "\n",
    "# Vorschlag 2: Erhebung von demografischen und psychografischen Daten\n",
    "\n",
    "# Zusätzliche Informationen:\n",
    "# -Berufliche Situation: Informationen über den Beruf und die Branche der Kunden.\n",
    "# -Bildungsstand: Erfragen Sie den höchsten Bildungsabschluss der Kunden.\n",
    "# -Freizeitinteressen und Lebensstil: Erheben Sie Informationen über die Freizeitinteressen und Hobbys der Kunden.\n",
    "# -Haushaltsgröße und Familienstand: Informationen über die Anzahl der Personen im Haushalt und den Familienstand.\n",
    "\n",
    "# Begründung:\n",
    "# Demografische und psychografische Daten bieten wertvolle Erkenntnisse über die Zielgruppe und deren Lebensstil.\n",
    "# Diese Informationen können genutzt werden, um gezielte Marketingstrategien zu entwickeln und die Produktangebote besser \n",
    "# an die Bedürfnisse der unterschiedlichen Kundensegmente anzupassen. Sie ermöglichen auch eine personalisierte Ansprache und \n",
    "# verbessern die Relevanz der Werbebotschaften.\n",
    "\n",
    "# Durch die Sammlung dieser zusätzlichen Informationen kann die Kundenabteilung ein umfassenderes und genaueres Bild der \n",
    "# Kundenbedürfnisse und -verhaltensweisen zeichnen, was zu einer verbesserten Kundenbindung und höheren Verkaufszahlen führen kann."
   ]
  }
 ],
 "metadata": {
  "kernelspec": {
   "display_name": "Python 3 (ipykernel)",
   "language": "python",
   "name": "python3"
  },
  "language_info": {
   "codemirror_mode": {
    "name": "ipython",
    "version": 3
   },
   "file_extension": ".py",
   "mimetype": "text/x-python",
   "name": "python",
   "nbconvert_exporter": "python",
   "pygments_lexer": "ipython3",
   "version": "3.11.7"
  }
 },
 "nbformat": 4,
 "nbformat_minor": 5
}
