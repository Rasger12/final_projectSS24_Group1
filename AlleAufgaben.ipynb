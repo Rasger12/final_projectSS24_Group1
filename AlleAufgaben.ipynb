{
 "cells": [
  {
   "cell_type": "code",
   "execution_count": 1,
   "id": "4e902df6-5500-4e1e-bec0-83200b4389d5",
   "metadata": {},
   "outputs": [],
   "source": [
    "#Alle Aufgaben\n",
    "# In dieser Datei werden alle Aufgaben bearbeitet"
   ]
  },
  {
   "cell_type": "code",
   "execution_count": 2,
   "id": "a4211ec7-d549-4339-873b-c0fc9765ad27",
   "metadata": {},
   "outputs": [],
   "source": [
    "#libary Imports\n",
    "\n",
    "import pandas as pd \n",
    "import numpy as np \n",
    "import matplotlib.pyplot as plt\n",
    "import seaborn as sns\n",
    "import statsmodels.api as sm\n",
    "from scipy.stats import ttest_ind\n",
    "\n",
    "\n",
    "from sklearn.linear_model import LinearRegression\n",
    "from sklearn.linear_model import LogisticRegression\n",
    "from sklearn.preprocessing import StandardScaler"
   ]
  },
  {
   "cell_type": "code",
   "execution_count": 3,
   "id": "5dab7700-16c6-4470-ba78-b1965a8b5152",
   "metadata": {},
   "outputs": [],
   "source": [
    "# Hier wird die kuratierte csv eingelesen\n",
    "\n",
    "df = pd.read_csv('data/Kuratiert.csv', sep = \";\", decimal =',')"
   ]
  },
  {
   "cell_type": "code",
   "execution_count": 4,
   "id": "26ed7662-c6e5-4856-9ab2-f88fc9434719",
   "metadata": {},
   "outputs": [],
   "source": [
    "# Aufgabe 1 - Wie viele Autos wurden verkauft?"
   ]
  },
  {
   "cell_type": "code",
   "execution_count": 5,
   "id": "a81b870d-f7fe-4715-939b-0e822dd268a2",
   "metadata": {},
   "outputs": [
    {
     "data": {
      "text/plain": [
       "(1995, 7)"
      ]
     },
     "execution_count": 5,
     "metadata": {},
     "output_type": "execute_result"
    }
   ],
   "source": [
    "# Zuerst schauen wir, wie viele Zeilen es gibt\n",
    "df.shape"
   ]
  },
  {
   "cell_type": "code",
   "execution_count": 6,
   "id": "ab90bee6-9b75-4b7f-be98-086db59173ea",
   "metadata": {
    "scrolled": true
   },
   "outputs": [
    {
     "name": "stdout",
     "output_type": "stream",
     "text": [
      "1104\n"
     ]
    }
   ],
   "source": [
    "# Dann werden alle fehlenden Werte in einer Variable zugewiesen\n",
    "missing_values_countdf = df[\"Preis\"].isnull().sum()\n",
    "aufgabe_1 = 1995 - missing_values_countdf\n",
    "\n",
    "# Anschließend wird von der Gesamtanzahl der Zeilen, die Variable abgezogen, um herauszufinden, welche und wie viele Zeilen nicht leer sind.\n",
    "print(aufgabe_1)"
   ]
  },
  {
   "cell_type": "code",
   "execution_count": 7,
   "id": "3a0c2351-583d-4cd7-925a-1fa74d1ff52a",
   "metadata": {},
   "outputs": [],
   "source": [
    "# Antwort: Es wurden insgesamt 1104 Autos verkauft"
   ]
  },
  {
   "cell_type": "code",
   "execution_count": 8,
   "id": "c2fbd107-6f81-4fda-a528-43962501e266",
   "metadata": {},
   "outputs": [],
   "source": [
    "# Aufgabe 2 - Was ist der Höchst-, Mindest- und Durchschnittspreis der verkauften Autos?"
   ]
  },
  {
   "cell_type": "code",
   "execution_count": 9,
   "id": "d053fd1e-48de-4a10-a9da-68bc1273664c",
   "metadata": {},
   "outputs": [
    {
     "data": {
      "text/html": [
       "<div>\n",
       "<style scoped>\n",
       "    .dataframe tbody tr th:only-of-type {\n",
       "        vertical-align: middle;\n",
       "    }\n",
       "\n",
       "    .dataframe tbody tr th {\n",
       "        vertical-align: top;\n",
       "    }\n",
       "\n",
       "    .dataframe thead th {\n",
       "        text-align: right;\n",
       "    }\n",
       "</style>\n",
       "<table border=\"1\" class=\"dataframe\">\n",
       "  <thead>\n",
       "    <tr style=\"text-align: right;\">\n",
       "      <th></th>\n",
       "      <th>Alter</th>\n",
       "      <th>Geschlecht</th>\n",
       "      <th>Zeit</th>\n",
       "      <th>Einkommen</th>\n",
       "      <th>Preis</th>\n",
       "    </tr>\n",
       "  </thead>\n",
       "  <tbody>\n",
       "    <tr>\n",
       "      <th>count</th>\n",
       "      <td>1995.000000</td>\n",
       "      <td>1995.000000</td>\n",
       "      <td>1995.000000</td>\n",
       "      <td>1995.000000</td>\n",
       "      <td>1104.000000</td>\n",
       "    </tr>\n",
       "    <tr>\n",
       "      <th>mean</th>\n",
       "      <td>50.158396</td>\n",
       "      <td>0.611028</td>\n",
       "      <td>40.262657</td>\n",
       "      <td>59104.923060</td>\n",
       "      <td>88975.198714</td>\n",
       "    </tr>\n",
       "    <tr>\n",
       "      <th>std</th>\n",
       "      <td>11.913807</td>\n",
       "      <td>0.487639</td>\n",
       "      <td>11.621591</td>\n",
       "      <td>16209.529474</td>\n",
       "      <td>24464.067781</td>\n",
       "    </tr>\n",
       "    <tr>\n",
       "      <th>min</th>\n",
       "      <td>30.000000</td>\n",
       "      <td>0.000000</td>\n",
       "      <td>3.000000</td>\n",
       "      <td>14547.000000</td>\n",
       "      <td>21471.650000</td>\n",
       "    </tr>\n",
       "    <tr>\n",
       "      <th>25%</th>\n",
       "      <td>40.000000</td>\n",
       "      <td>0.000000</td>\n",
       "      <td>32.000000</td>\n",
       "      <td>47093.000000</td>\n",
       "      <td>70609.422500</td>\n",
       "    </tr>\n",
       "    <tr>\n",
       "      <th>50%</th>\n",
       "      <td>51.000000</td>\n",
       "      <td>1.000000</td>\n",
       "      <td>40.000000</td>\n",
       "      <td>59104.513014</td>\n",
       "      <td>88931.455000</td>\n",
       "    </tr>\n",
       "    <tr>\n",
       "      <th>75%</th>\n",
       "      <td>61.000000</td>\n",
       "      <td>1.000000</td>\n",
       "      <td>48.000000</td>\n",
       "      <td>70639.675007</td>\n",
       "      <td>107093.375000</td>\n",
       "    </tr>\n",
       "    <tr>\n",
       "      <th>max</th>\n",
       "      <td>70.000000</td>\n",
       "      <td>1.000000</td>\n",
       "      <td>80.000000</td>\n",
       "      <td>100769.000000</td>\n",
       "      <td>165482.310000</td>\n",
       "    </tr>\n",
       "  </tbody>\n",
       "</table>\n",
       "</div>"
      ],
      "text/plain": [
       "             Alter   Geschlecht         Zeit      Einkommen          Preis\n",
       "count  1995.000000  1995.000000  1995.000000    1995.000000    1104.000000\n",
       "mean     50.158396     0.611028    40.262657   59104.923060   88975.198714\n",
       "std      11.913807     0.487639    11.621591   16209.529474   24464.067781\n",
       "min      30.000000     0.000000     3.000000   14547.000000   21471.650000\n",
       "25%      40.000000     0.000000    32.000000   47093.000000   70609.422500\n",
       "50%      51.000000     1.000000    40.000000   59104.513014   88931.455000\n",
       "75%      61.000000     1.000000    48.000000   70639.675007  107093.375000\n",
       "max      70.000000     1.000000    80.000000  100769.000000  165482.310000"
      ]
     },
     "execution_count": 9,
     "metadata": {},
     "output_type": "execute_result"
    }
   ],
   "source": [
    "# Hier werden statistische Merkmale angezeigt\n",
    "df.describe()"
   ]
  },
  {
   "cell_type": "code",
   "execution_count": 10,
   "id": "76f7d7fd-85f9-4af2-89ec-23b486355bb2",
   "metadata": {},
   "outputs": [],
   "source": [
    "# Antwort: \n",
    "# Höchstpreis = 165.482,31 \n",
    "# Mindestpreis = 21.471,65\n",
    "# Durchschnittspreis = 88.975,20 "
   ]
  },
  {
   "cell_type": "code",
   "execution_count": 11,
   "id": "f250f92d-38f7-4a51-9b8a-7f6aaa8cd2ef",
   "metadata": {},
   "outputs": [],
   "source": [
    "# Aufgabe 3 - Wie hoch war der Gesamtumsatz?"
   ]
  },
  {
   "cell_type": "code",
   "execution_count": 12,
   "id": "37fb50d7-bf4b-4d2b-b834-ab48c83e733e",
   "metadata": {
    "scrolled": true
   },
   "outputs": [
    {
     "data": {
      "text/plain": [
       "98228619.38"
      ]
     },
     "execution_count": 12,
     "metadata": {},
     "output_type": "execute_result"
    }
   ],
   "source": [
    "# Alle Werte in der Spalte \"Preis\" werden summiert und einer Variable zugewiesen.\n",
    "gesamtumsatz = df.Preis.sum()\n",
    "\n",
    "# Anschließend wird der Wert der Variable ausgegeben\n",
    "gesamtumsatz"
   ]
  },
  {
   "cell_type": "code",
   "execution_count": 13,
   "id": "5f0216d5-71e1-49d6-bc11-5204c51bbc08",
   "metadata": {},
   "outputs": [],
   "source": [
    "# Antwort: Der Gesamtumsatz war 98.228.619,38 €"
   ]
  },
  {
   "cell_type": "code",
   "execution_count": 14,
   "id": "e4956096-d304-47cb-98e8-19a37ef2215f",
   "metadata": {},
   "outputs": [],
   "source": [
    "# Aufgabe 4 - Wie viele Autos wurden pro Bundesland verkauft?"
   ]
  },
  {
   "cell_type": "code",
   "execution_count": 15,
   "id": "ab36b436",
   "metadata": {
    "scrolled": true
   },
   "outputs": [
    {
     "data": {
      "text/html": [
       "<div>\n",
       "<style scoped>\n",
       "    .dataframe tbody tr th:only-of-type {\n",
       "        vertical-align: middle;\n",
       "    }\n",
       "\n",
       "    .dataframe tbody tr th {\n",
       "        vertical-align: top;\n",
       "    }\n",
       "\n",
       "    .dataframe thead th {\n",
       "        text-align: right;\n",
       "    }\n",
       "</style>\n",
       "<table border=\"1\" class=\"dataframe\">\n",
       "  <thead>\n",
       "    <tr style=\"text-align: right;\">\n",
       "      <th></th>\n",
       "      <th>Niederlassung</th>\n",
       "      <th>Verkaufte Autos</th>\n",
       "    </tr>\n",
       "  </thead>\n",
       "  <tbody>\n",
       "    <tr>\n",
       "      <th>0</th>\n",
       "      <td>Baden-Württemberg</td>\n",
       "      <td>205</td>\n",
       "    </tr>\n",
       "    <tr>\n",
       "      <th>1</th>\n",
       "      <td>Bayern</td>\n",
       "      <td>188</td>\n",
       "    </tr>\n",
       "    <tr>\n",
       "      <th>2</th>\n",
       "      <td>Berlin</td>\n",
       "      <td>126</td>\n",
       "    </tr>\n",
       "    <tr>\n",
       "      <th>3</th>\n",
       "      <td>Brandenburg</td>\n",
       "      <td>37</td>\n",
       "    </tr>\n",
       "    <tr>\n",
       "      <th>4</th>\n",
       "      <td>Düsseldorf</td>\n",
       "      <td>1</td>\n",
       "    </tr>\n",
       "    <tr>\n",
       "      <th>5</th>\n",
       "      <td>Hamburg</td>\n",
       "      <td>43</td>\n",
       "    </tr>\n",
       "    <tr>\n",
       "      <th>6</th>\n",
       "      <td>Hessen</td>\n",
       "      <td>96</td>\n",
       "    </tr>\n",
       "    <tr>\n",
       "      <th>7</th>\n",
       "      <td>Niedersachsen</td>\n",
       "      <td>96</td>\n",
       "    </tr>\n",
       "    <tr>\n",
       "      <th>8</th>\n",
       "      <td>Nordrhein-Westfalen</td>\n",
       "      <td>174</td>\n",
       "    </tr>\n",
       "    <tr>\n",
       "      <th>9</th>\n",
       "      <td>Sachsen</td>\n",
       "      <td>89</td>\n",
       "    </tr>\n",
       "    <tr>\n",
       "      <th>10</th>\n",
       "      <td>Thüringen</td>\n",
       "      <td>49</td>\n",
       "    </tr>\n",
       "  </tbody>\n",
       "</table>\n",
       "</div>"
      ],
      "text/plain": [
       "          Niederlassung  Verkaufte Autos\n",
       "0     Baden-Württemberg              205\n",
       "1                Bayern              188\n",
       "2                Berlin              126\n",
       "3           Brandenburg               37\n",
       "4            Düsseldorf                1\n",
       "5               Hamburg               43\n",
       "6                Hessen               96\n",
       "7         Niedersachsen               96\n",
       "8   Nordrhein-Westfalen              174\n",
       "9               Sachsen               89\n",
       "10            Thüringen               49"
      ]
     },
     "execution_count": 15,
     "metadata": {},
     "output_type": "execute_result"
    }
   ],
   "source": [
    "# Alle Werte in \"Preis\" einer jeweiligen \"Niederlassung\" werden gezählt.\n",
    "aufgabe_4 = df.groupby(\"Niederlassung\")[[\"Preis\"]].count().reset_index()\n",
    "\n",
    "aufgabe_4.rename(columns ={\"Preis\":\"Verkaufte Autos\"})\n",
    "\n",
    "# In der spalte \"Verkaufte Autos\" findet man wie viele Autos in der jeweiligen Niederlassung verkauft wurden"
   ]
  },
  {
   "cell_type": "code",
   "execution_count": 16,
   "id": "5dc2f6db",
   "metadata": {},
   "outputs": [
    {
     "data": {
      "text/plain": [
       "1104"
      ]
     },
     "execution_count": 16,
     "metadata": {},
     "output_type": "execute_result"
    }
   ],
   "source": [
    "# Ein test um sicher zu gehen dass die bisherigen Werte stimmen\n",
    "# Summe der verkäufe der Niederlassungen muss Summe der gesamten Verkäufe entsprächen.\n",
    "aufgabe_4.Preis.sum()\n",
    "# Deckt sich mit bisherigen ergebnissen"
   ]
  },
  {
   "cell_type": "code",
   "execution_count": 17,
   "id": "4632a6b0-13ec-4323-b40c-1b2e29ff867e",
   "metadata": {},
   "outputs": [],
   "source": [
    "#Aufgabe 5 - Wie hoch war der durchschnittliche Umsatz pro Bundesland"
   ]
  },
  {
   "cell_type": "code",
   "execution_count": 50,
   "id": "55336968",
   "metadata": {
    "scrolled": true
   },
   "outputs": [
    {
     "data": {
      "text/html": [
       "<div>\n",
       "<style scoped>\n",
       "    .dataframe tbody tr th:only-of-type {\n",
       "        vertical-align: middle;\n",
       "    }\n",
       "\n",
       "    .dataframe tbody tr th {\n",
       "        vertical-align: top;\n",
       "    }\n",
       "\n",
       "    .dataframe thead th {\n",
       "        text-align: right;\n",
       "    }\n",
       "</style>\n",
       "<table border=\"1\" class=\"dataframe\">\n",
       "  <thead>\n",
       "    <tr style=\"text-align: right;\">\n",
       "      <th></th>\n",
       "      <th>Niederlassung</th>\n",
       "      <th>D. Umsatz</th>\n",
       "    </tr>\n",
       "  </thead>\n",
       "  <tbody>\n",
       "    <tr>\n",
       "      <th>0</th>\n",
       "      <td>Baden-Württemberg</td>\n",
       "      <td>90969.56</td>\n",
       "    </tr>\n",
       "    <tr>\n",
       "      <th>1</th>\n",
       "      <td>Bayern</td>\n",
       "      <td>89344.31</td>\n",
       "    </tr>\n",
       "    <tr>\n",
       "      <th>2</th>\n",
       "      <td>Berlin</td>\n",
       "      <td>89584.98</td>\n",
       "    </tr>\n",
       "    <tr>\n",
       "      <th>3</th>\n",
       "      <td>Brandenburg</td>\n",
       "      <td>86673.64</td>\n",
       "    </tr>\n",
       "    <tr>\n",
       "      <th>4</th>\n",
       "      <td>Düsseldorf</td>\n",
       "      <td>120215.50</td>\n",
       "    </tr>\n",
       "    <tr>\n",
       "      <th>5</th>\n",
       "      <td>Hamburg</td>\n",
       "      <td>85549.50</td>\n",
       "    </tr>\n",
       "    <tr>\n",
       "      <th>6</th>\n",
       "      <td>Hessen</td>\n",
       "      <td>85864.93</td>\n",
       "    </tr>\n",
       "    <tr>\n",
       "      <th>7</th>\n",
       "      <td>Niedersachsen</td>\n",
       "      <td>87963.31</td>\n",
       "    </tr>\n",
       "    <tr>\n",
       "      <th>8</th>\n",
       "      <td>Nordrhein-Westfalen</td>\n",
       "      <td>88451.76</td>\n",
       "    </tr>\n",
       "    <tr>\n",
       "      <th>9</th>\n",
       "      <td>Sachsen</td>\n",
       "      <td>89455.08</td>\n",
       "    </tr>\n",
       "    <tr>\n",
       "      <th>10</th>\n",
       "      <td>Thüringen</td>\n",
       "      <td>90816.99</td>\n",
       "    </tr>\n",
       "  </tbody>\n",
       "</table>\n",
       "</div>"
      ],
      "text/plain": [
       "          Niederlassung  D. Umsatz\n",
       "0     Baden-Württemberg   90969.56\n",
       "1                Bayern   89344.31\n",
       "2                Berlin   89584.98\n",
       "3           Brandenburg   86673.64\n",
       "4            Düsseldorf  120215.50\n",
       "5               Hamburg   85549.50\n",
       "6                Hessen   85864.93\n",
       "7         Niedersachsen   87963.31\n",
       "8   Nordrhein-Westfalen   88451.76\n",
       "9               Sachsen   89455.08\n",
       "10            Thüringen   90816.99"
      ]
     },
     "execution_count": 50,
     "metadata": {},
     "output_type": "execute_result"
    }
   ],
   "source": [
    "# Es wird der Durschnitt aller Werte der jeweiligen Niederlassung berechnet.\n",
    "aufgabe_5 = df.groupby(\"Niederlassung\")[[\"Preis\"]].mean().round(2).reset_index()\n",
    "aufgabe_5.rename(columns ={\"Preis\":\"D. Umsatz\"})\n",
    "#In der Spalte \"D. Umsatz\" stehen alle Durschnitswerte der jeweiligen Niederlassungen."
   ]
  },
  {
   "cell_type": "code",
   "execution_count": 19,
   "id": "4d319bf9",
   "metadata": {},
   "outputs": [],
   "source": [
    "#Aufgabe 6 - In welchem Bundesland wurde das teuerste Auto verkauft?"
   ]
  },
  {
   "cell_type": "code",
   "execution_count": 20,
   "id": "6379dfd8",
   "metadata": {},
   "outputs": [
    {
     "data": {
      "text/plain": [
       "Niederlassung    Thüringen\n",
       "Preis            165482.31\n",
       "dtype: object"
      ]
     },
     "execution_count": 20,
     "metadata": {},
     "output_type": "execute_result"
    }
   ],
   "source": [
    "# Es wird der Maximalwert der jeweiligen Niederlassungen ausgegeben.\n",
    "aufgabe_6 = df.groupby(\"Niederlassung\")[[\"Preis\"]].max().reset_index()\n",
    "\n",
    "#Hier geben wir den Maximalwert der Niederlassungen aus. Also das Bundesland, das das Teuerste Auto verkauft hat.\n",
    "aufgabe_6.max()"
   ]
  },
  {
   "cell_type": "code",
   "execution_count": 21,
   "id": "22929d62",
   "metadata": {},
   "outputs": [],
   "source": [
    "#Aufgabe 7 - Haben mehr Frauen oder Männer unsere Autos gekauft?"
   ]
  },
  {
   "cell_type": "code",
   "execution_count": 22,
   "id": "62b41603",
   "metadata": {},
   "outputs": [
    {
     "data": {
      "text/html": [
       "<div>\n",
       "<style scoped>\n",
       "    .dataframe tbody tr th:only-of-type {\n",
       "        vertical-align: middle;\n",
       "    }\n",
       "\n",
       "    .dataframe tbody tr th {\n",
       "        vertical-align: top;\n",
       "    }\n",
       "\n",
       "    .dataframe thead th {\n",
       "        text-align: right;\n",
       "    }\n",
       "</style>\n",
       "<table border=\"1\" class=\"dataframe\">\n",
       "  <thead>\n",
       "    <tr style=\"text-align: right;\">\n",
       "      <th></th>\n",
       "      <th>Geschlecht</th>\n",
       "      <th>Gekaufte Autos</th>\n",
       "    </tr>\n",
       "  </thead>\n",
       "  <tbody>\n",
       "    <tr>\n",
       "      <th>0</th>\n",
       "      <td>0</td>\n",
       "      <td>400</td>\n",
       "    </tr>\n",
       "    <tr>\n",
       "      <th>1</th>\n",
       "      <td>1</td>\n",
       "      <td>704</td>\n",
       "    </tr>\n",
       "  </tbody>\n",
       "</table>\n",
       "</div>"
      ],
      "text/plain": [
       "   Geschlecht  Gekaufte Autos\n",
       "0           0             400\n",
       "1           1             704"
      ]
     },
     "execution_count": 22,
     "metadata": {},
     "output_type": "execute_result"
    }
   ],
   "source": [
    "# Geschlecht gruppiert nach Anzahl an Preis einträgen.\n",
    "aufgabe_7 = df.groupby(\"Geschlecht\")[[\"Preis\"]].count().reset_index()\n",
    "\n",
    "#In der Ausgabe erkennt man dass Frauen (0) 400 mal ein Auto gekauft haben und Männer(1) 704 mal.\n",
    "\n",
    "aufgabe_7.rename(columns ={\"Preis\":\"Gekaufte Autos\"})\n",
    "# Männer haben mehr Autos gekauft als Frauen."
   ]
  },
  {
   "cell_type": "code",
   "execution_count": 23,
   "id": "867b2c43",
   "metadata": {},
   "outputs": [],
   "source": [
    "# Aufgabe 8 - Wie hoch ist das Durchschnittsalter unserer Kunden? \n",
    "#             Wie hoch ist das Durchschnittsalter unserer Besucher?"
   ]
  },
  {
   "cell_type": "code",
   "execution_count": 24,
   "id": "913eb699",
   "metadata": {},
   "outputs": [
    {
     "data": {
      "text/html": [
       "<div>\n",
       "<style scoped>\n",
       "    .dataframe tbody tr th:only-of-type {\n",
       "        vertical-align: middle;\n",
       "    }\n",
       "\n",
       "    .dataframe tbody tr th {\n",
       "        vertical-align: top;\n",
       "    }\n",
       "\n",
       "    .dataframe thead th {\n",
       "        text-align: right;\n",
       "    }\n",
       "</style>\n",
       "<table border=\"1\" class=\"dataframe\">\n",
       "  <thead>\n",
       "    <tr style=\"text-align: right;\">\n",
       "      <th></th>\n",
       "      <th>Kunde</th>\n",
       "      <th>Alter</th>\n",
       "    </tr>\n",
       "  </thead>\n",
       "  <tbody>\n",
       "    <tr>\n",
       "      <th>0</th>\n",
       "      <td>False</td>\n",
       "      <td>49.88</td>\n",
       "    </tr>\n",
       "    <tr>\n",
       "      <th>1</th>\n",
       "      <td>True</td>\n",
       "      <td>50.38</td>\n",
       "    </tr>\n",
       "  </tbody>\n",
       "</table>\n",
       "</div>"
      ],
      "text/plain": [
       "   Kunde  Alter\n",
       "0  False  49.88\n",
       "1   True  50.38"
      ]
     },
     "execution_count": 24,
     "metadata": {},
     "output_type": "execute_result"
    }
   ],
   "source": [
    "# Der Dataframe wird um eine Reihe erweitert mit der Information ob es sich um einen Kunden oder Besucher handelt\n",
    "df = df.assign(Kunde = df[\"Preis\"].notna())\n",
    "\n",
    "# Gruppierung nach dem Kundenstatus \"Kunde\" und berechnung des auf zwei Nachkommastellen gerundeten Durschnittsalters.\n",
    "aufgabe_8 = df.groupby(\"Kunde\")[[\"Alter\"]].mean().reset_index().round(2)\n",
    "\n",
    "aufgabe_8\n",
    "# Kunden sind im Schnitt 50,38 und Besucher im Schnitt 49,88 Jahre alt."
   ]
  },
  {
   "cell_type": "code",
   "execution_count": 25,
   "id": "3f16a065",
   "metadata": {},
   "outputs": [],
   "source": [
    "#Aufgabe 9 - Wie hoch ist das Durchschnittseinkommen unserer Kunden? \n",
    "#            Wie hoch ist das Durchschnittseinkommen unserer Besucher?"
   ]
  },
  {
   "cell_type": "code",
   "execution_count": 48,
   "id": "c8074df2",
   "metadata": {},
   "outputs": [
    {
     "data": {
      "text/html": [
       "<div>\n",
       "<style scoped>\n",
       "    .dataframe tbody tr th:only-of-type {\n",
       "        vertical-align: middle;\n",
       "    }\n",
       "\n",
       "    .dataframe tbody tr th {\n",
       "        vertical-align: top;\n",
       "    }\n",
       "\n",
       "    .dataframe thead th {\n",
       "        text-align: right;\n",
       "    }\n",
       "</style>\n",
       "<table border=\"1\" class=\"dataframe\">\n",
       "  <thead>\n",
       "    <tr style=\"text-align: right;\">\n",
       "      <th></th>\n",
       "      <th>Kunde</th>\n",
       "      <th>Durchschnittseinkommen</th>\n",
       "    </tr>\n",
       "  </thead>\n",
       "  <tbody>\n",
       "    <tr>\n",
       "      <th>0</th>\n",
       "      <td>False</td>\n",
       "      <td>59419.66</td>\n",
       "    </tr>\n",
       "    <tr>\n",
       "      <th>1</th>\n",
       "      <td>True</td>\n",
       "      <td>58850.91</td>\n",
       "    </tr>\n",
       "  </tbody>\n",
       "</table>\n",
       "</div>"
      ],
      "text/plain": [
       "   Kunde  Durchschnittseinkommen\n",
       "0  False                59419.66\n",
       "1   True                58850.91"
      ]
     },
     "execution_count": 48,
     "metadata": {},
     "output_type": "execute_result"
    }
   ],
   "source": [
    "# Gruppieren nach dem Kundenstatus und berechnung des Durchschnittseinkommen.\n",
    "aufgabe_9 = df.groupby(\"Kunde\")[[\"Einkommen\"]].mean().reset_index()\n",
    "\n",
    "# Die Ausgabe anzeigen lassen mit angepasstem Spaltentitel zu \"Durchschnittseinkommen\" und einem auf zwei Stellen gerundetem Wert.\n",
    "aufgabe_9a = aufgabe_9.rename(columns ={\"Einkommen\":\"Durchschnittseinkommen\"}).round(2)\n",
    "aufgabe_9a "
   ]
  },
  {
   "cell_type": "code",
   "execution_count": 27,
   "id": "cc64a037",
   "metadata": {},
   "outputs": [],
   "source": [
    "#Aufgabe 10 - Bestimmen Sie ob es einen statistisch signifikanten Unterschied \n",
    "#             zwischen dem Durschnittseinkommen der Kunden und dem Durchscnittseinkommen der Besucher gibt. "
   ]
  },
  {
   "cell_type": "code",
   "execution_count": 28,
   "id": "aded1f2e",
   "metadata": {},
   "outputs": [
    {
     "data": {
      "text/plain": [
       "TtestResult(statistic=array([-0.7790477]), pvalue=array([0.43604411]), df=array([1993.]))"
      ]
     },
     "execution_count": 28,
     "metadata": {},
     "output_type": "execute_result"
    }
   ],
   "source": [
    "# Die Nullhypothese: \n",
    "# H0: μ 1 = μ 2 (die beiden Populationsmittelwerte sind gleich)\n",
    "# Die Allternativhypothese: \n",
    "# H1: μ 1 ≠ μ 2 (die beiden Populationsmittelwerte sind nicht gleich)\n",
    "\n",
    "# Daten vorbereiten für die Funktion. Wir benötigen input a und b mit jeweils den Werten der zuvergleichenden Daten.\n",
    "# Erstellen eines neuen Dataframes mit jeweils den Einkommen der Kunden und der Besucher\n",
    "a_kunde = df.loc[df[\"Kunde\"] == True, [\"Einkommen\"]]\n",
    "b_besucher = df.loc[df[\"Kunde\"] == False, [\"Einkommen\"]]\n",
    "#Wir setzen die Einkommen der Kunden und Besucher in die Funktion ein und geben an dass die Varianz gleich ist.\n",
    "t_test = ttest_ind(a=a_kunde, b=b_besucher, equal_var=True)\n",
    "t_test\n",
    "\n",
    "# Interpretation der Ergebnisse:\n",
    "# Das signifikanzniveau (pvalue) ist 0.44 uns somit > 0.05.\n",
    "# Wir könen die Nullhypothese des tests nicht ablehnen. \n",
    "# Somit gilt: H0| μ 1 = μ 2 (die beiden Populationsmittelwerte sind gleich)\n",
    "# Es gibt keinen statistisch signifikanten Unterschied \n",
    "# zwischen dem Durschnittseinkommen der Kunden und dem Durchscnittseinkommen der Besucher.\n"
   ]
  },
  {
   "cell_type": "code",
   "execution_count": 29,
   "id": "171e2cf7",
   "metadata": {},
   "outputs": [],
   "source": [
    "#Aufgabe 11 - Wie hoch ist die Korrelation (Pearson-Korrelation) zwischen den Variablen Alter, Einkommen, Preis und Zeit?\n",
    "#             (Nur für Kunden)"
   ]
  },
  {
   "cell_type": "code",
   "execution_count": 30,
   "id": "762cb121-860d-4f99-bd3f-a898c3fc720e",
   "metadata": {},
   "outputs": [
    {
     "data": {
      "image/png": "[encoded data removed]",
      "text/plain": [
       "<Figure size 1000x800 with 2 Axes>"
      ]
     },
     "metadata": {},
     "output_type": "display_data"
    }
   ],
   "source": [
    "# Erstellen eines Dataframes das nur Kundendaten beinhaltet.\n",
    "df_kunden = df.loc[df[\"Kunde\"] == True, [\"Alter\", \"Einkommen\", \"Preis\", \"Zeit\"]]\n",
    "\n",
    "# Hier wird die Korrelation nochmal visuell dargestellt: \n",
    "corr_matrix = df_kunden.corr()\n",
    "\n",
    "# Erstellen der Heatmap\n",
    "fig, ax = plt.subplots(figsize=(10, 8))\n",
    "cax = ax.matshow(corr_matrix, cmap='coolwarm')\n",
    "\n",
    "# Farbbar hinzufügen\n",
    "fig.colorbar(cax)\n",
    "\n",
    "# Setzen der x- und y-Achsen-Ticks und -Labels\n",
    "ticks = np.arange(0, len(corr_matrix.columns), 1)\n",
    "ax.set_xticks(ticks)\n",
    "ax.set_yticks(ticks)\n",
    "ax.set_xticklabels(corr_matrix.columns)\n",
    "ax.set_yticklabels(corr_matrix.columns)\n",
    "\n",
    "# Annotieren der Zellen\n",
    "for i in range(len(corr_matrix.columns)):\n",
    "    for j in range(len(corr_matrix.columns)):\n",
    "        text = ax.text(j, i, round(corr_matrix.iloc[i, j], 2),\n",
    "                       ha=\"center\", va=\"center\", color=\"black\")\n",
    "\n",
    "# Setzen des Titels\n",
    "plt.title('Korrelation zwischen Alter, Einkommen, Preis und Zeit unserer Kunden')\n",
    "\n",
    "# Anzeigen der Heatmap\n",
    "plt.show()"
   ]
  },
  {
   "cell_type": "code",
   "execution_count": 31,
   "id": "3c40d8db",
   "metadata": {},
   "outputs": [],
   "source": [
    "# Aufgabe 12 - Testen Sie grafisch mit Hilfe eines qq-Plos, ob die Variable Zeit approximativ normalverteilt ist."
   ]
  },
  {
   "cell_type": "code",
   "execution_count": 32,
   "id": "cb236bdc",
   "metadata": {},
   "outputs": [
    {
     "data": {
      "image/png": "[encoded data removed]",
      "text/plain": [
       "<Figure size 640x480 with 1 Axes>"
      ]
     },
     "metadata": {},
     "output_type": "display_data"
    }
   ],
   "source": [
    "# Mit statsmodels erzeugen wir einen qq Plot unserer Zeit Variable und legen die Normalvertielung (Rotelinie) darüber.\n",
    "# Zu sehen ist, dass die Variable Zeit approximativ normalverteilt ist.\n",
    "sm.qqplot(df[\"Zeit\"], line=\"s\")\n",
    "plt.title(\"QQ-Plot für die Variable 'Zeit'\")\n",
    "plt.show()"
   ]
  },
  {
   "cell_type": "code",
   "execution_count": 33,
   "id": "15a2f1ec",
   "metadata": {},
   "outputs": [],
   "source": [
    "#Aufgabe 13 - Wie viele Kunden haben keinen Bankkredit aufgenommen, um das Auto zu kaufen? \n",
    "#             Die Kundenabteilung hat vergessen, diese Informatonen zu erfassen. \n",
    "#             Wir können davon ausgehen, dass die Kunden mit einem Jahreseinkommen höher als der Autopreis keinen Kredit aufgenommen haben."
   ]
  },
  {
   "cell_type": "code",
   "execution_count": 34,
   "id": "8e2d642c",
   "metadata": {
    "scrolled": true
   },
   "outputs": [
    {
     "name": "stdout",
     "output_type": "stream",
     "text": [
      "Es haben 1099 Kunden einen Bankkredit genutzt.\n"
     ]
    }
   ],
   "source": [
    "# Bezug auf das vorherig erstellte DataFrame das nur Kundendaten enthält\n",
    "# Mit dr Funktion np.where erzeugen wir in diesem df_kunden eine neue Spalte mit der \n",
    "# Bedingung, dass das Einkommen größer als der Preis sein muss. Um Fehler zu vermeiden, fragen wir ab ob der Preis > 1 ist.\n",
    "df_kunden[\"Kredit\"] = np.where((df_kunden[\"Einkommen\"] < df_kunden[\"Preis\"]) & (df_kunden[\"Preis\"] > 1),1,0)\n",
    "aufgabe_13 = str(df_kunden.Kredit.sum())\n",
    "print(\"Es haben \" + aufgabe_13 + \" Kunden einen Bankkredit genutzt.\")\n",
    "\n",
    "#Es haben 1099 Kunden einen Bankkredit genutzt"
   ]
  },
  {
   "cell_type": "code",
   "execution_count": 35,
   "id": "66529e8b",
   "metadata": {},
   "outputs": [],
   "source": [
    "# Aufgabe 14 - Welche sozioökonomischen Merkmale beeinflussen den Kaufpreis? \n",
    "#              Wählen Sie die geeigneten unabhängigen Variablen aus und schätzen Sie eine Regression \n",
    "#              unter Verwendung der geeigneten Methode \n",
    "#              (Verwenden Sie die Bibliothek statsmodel und nicht sklearn.)"
   ]
  },
  {
   "cell_type": "code",
   "execution_count": 36,
   "id": "6baa3c25",
   "metadata": {},
   "outputs": [
    {
     "data": {
      "text/html": [
       "<table class=\"simpletable\">\n",
       "<caption>OLS Regression Results</caption>\n",
       "<tr>\n",
       "  <th>Dep. Variable:</th>          <td>Preis</td>      <th>  R-squared:         </th> <td>   0.822</td> \n",
       "</tr>\n",
       "<tr>\n",
       "  <th>Model:</th>                   <td>OLS</td>       <th>  Adj. R-squared:    </th> <td>   0.821</td> \n",
       "</tr>\n",
       "<tr>\n",
       "  <th>Method:</th>             <td>Least Squares</td>  <th>  F-statistic:       </th> <td>   1693.</td> \n",
       "</tr>\n",
       "<tr>\n",
       "  <th>Date:</th>             <td>Thu, 27 Jun 2024</td> <th>  Prob (F-statistic):</th>  <td>  0.00</td>  \n",
       "</tr>\n",
       "<tr>\n",
       "  <th>Time:</th>                 <td>17:48:26</td>     <th>  Log-Likelihood:    </th> <td> -11769.</td> \n",
       "</tr>\n",
       "<tr>\n",
       "  <th>No. Observations:</th>      <td>  1104</td>      <th>  AIC:               </th> <td>2.355e+04</td>\n",
       "</tr>\n",
       "<tr>\n",
       "  <th>Df Residuals:</th>          <td>  1100</td>      <th>  BIC:               </th> <td>2.357e+04</td>\n",
       "</tr>\n",
       "<tr>\n",
       "  <th>Df Model:</th>              <td>     3</td>      <th>                     </th>     <td> </td>    \n",
       "</tr>\n",
       "<tr>\n",
       "  <th>Covariance Type:</th>      <td>nonrobust</td>    <th>                     </th>     <td> </td>    \n",
       "</tr>\n",
       "</table>\n",
       "<table class=\"simpletable\">\n",
       "<tr>\n",
       "       <td></td>         <th>coef</th>     <th>std err</th>      <th>t</th>      <th>P>|t|</th>  <th>[0.025</th>    <th>0.975]</th>  \n",
       "</tr>\n",
       "<tr>\n",
       "  <th>const</th>      <td>  660.4066</td> <td> 1416.736</td> <td>    0.466</td> <td> 0.641</td> <td>-2119.404</td> <td> 3440.218</td>\n",
       "</tr>\n",
       "<tr>\n",
       "  <th>Alter</th>      <td>  500.7289</td> <td>   40.158</td> <td>   12.469</td> <td> 0.000</td> <td>  421.935</td> <td>  579.523</td>\n",
       "</tr>\n",
       "<tr>\n",
       "  <th>Einkommen</th>  <td>    1.0477</td> <td>    0.029</td> <td>   35.874</td> <td> 0.000</td> <td>    0.990</td> <td>    1.105</td>\n",
       "</tr>\n",
       "<tr>\n",
       "  <th>Geschlecht</th> <td> 2243.7292</td> <td>  647.696</td> <td>    3.464</td> <td> 0.001</td> <td>  972.871</td> <td> 3514.588</td>\n",
       "</tr>\n",
       "</table>\n",
       "<table class=\"simpletable\">\n",
       "<tr>\n",
       "  <th>Omnibus:</th>       <td>40.961</td> <th>  Durbin-Watson:     </th> <td>   2.104</td>\n",
       "</tr>\n",
       "<tr>\n",
       "  <th>Prob(Omnibus):</th> <td> 0.000</td> <th>  Jarque-Bera (JB):  </th> <td>  79.378</td>\n",
       "</tr>\n",
       "<tr>\n",
       "  <th>Skew:</th>          <td> 0.246</td> <th>  Prob(JB):          </th> <td>5.80e-18</td>\n",
       "</tr>\n",
       "<tr>\n",
       "  <th>Kurtosis:</th>      <td> 4.218</td> <th>  Cond. No.          </th> <td>2.81e+05</td>\n",
       "</tr>\n",
       "</table><br/><br/>Notes:<br/>[1] Standard Errors assume that the covariance matrix of the errors is correctly specified.<br/>[2] The condition number is large, 2.81e+05. This might indicate that there are<br/>strong multicollinearity or other numerical problems."
      ],
      "text/latex": [
       "\\begin{center}\n",
       "\\begin{tabular}{lclc}\n",
       "\\toprule\n",
       "\\textbf{Dep. Variable:}    &      Preis       & \\textbf{  R-squared:         } &     0.822   \\\\\n",
       "\\textbf{Model:}            &       OLS        & \\textbf{  Adj. R-squared:    } &     0.821   \\\\\n",
       "\\textbf{Method:}           &  Least Squares   & \\textbf{  F-statistic:       } &     1693.   \\\\\n",
       "\\textbf{Date:}             & Thu, 27 Jun 2024 & \\textbf{  Prob (F-statistic):} &     0.00    \\\\\n",
       "\\textbf{Time:}             &     17:48:26     & \\textbf{  Log-Likelihood:    } &   -11769.   \\\\\n",
       "\\textbf{No. Observations:} &        1104      & \\textbf{  AIC:               } & 2.355e+04   \\\\\n",
       "\\textbf{Df Residuals:}     &        1100      & \\textbf{  BIC:               } & 2.357e+04   \\\\\n",
       "\\textbf{Df Model:}         &           3      & \\textbf{                     } &             \\\\\n",
       "\\textbf{Covariance Type:}  &    nonrobust     & \\textbf{                     } &             \\\\\n",
       "\\bottomrule\n",
       "\\end{tabular}\n",
       "\\begin{tabular}{lcccccc}\n",
       "                    & \\textbf{coef} & \\textbf{std err} & \\textbf{t} & \\textbf{P$> |$t$|$} & \\textbf{[0.025} & \\textbf{0.975]}  \\\\\n",
       "\\midrule\n",
       "\\textbf{const}      &     660.4066  &     1416.736     &     0.466  &         0.641        &    -2119.404    &     3440.218     \\\\\n",
       "\\textbf{Alter}      &     500.7289  &       40.158     &    12.469  &         0.000        &      421.935    &      579.523     \\\\\n",
       "\\textbf{Einkommen}  &       1.0477  &        0.029     &    35.874  &         0.000        &        0.990    &        1.105     \\\\\n",
       "\\textbf{Geschlecht} &    2243.7292  &      647.696     &     3.464  &         0.001        &      972.871    &     3514.588     \\\\\n",
       "\\bottomrule\n",
       "\\end{tabular}\n",
       "\\begin{tabular}{lclc}\n",
       "\\textbf{Omnibus:}       & 40.961 & \\textbf{  Durbin-Watson:     } &    2.104  \\\\\n",
       "\\textbf{Prob(Omnibus):} &  0.000 & \\textbf{  Jarque-Bera (JB):  } &   79.378  \\\\\n",
       "\\textbf{Skew:}          &  0.246 & \\textbf{  Prob(JB):          } & 5.80e-18  \\\\\n",
       "\\textbf{Kurtosis:}      &  4.218 & \\textbf{  Cond. No.          } & 2.81e+05  \\\\\n",
       "\\bottomrule\n",
       "\\end{tabular}\n",
       "%\\caption{OLS Regression Results}\n",
       "\\end{center}\n",
       "\n",
       "Notes: \\newline\n",
       " [1] Standard Errors assume that the covariance matrix of the errors is correctly specified. \\newline\n",
       " [2] The condition number is large, 2.81e+05. This might indicate that there are \\newline\n",
       " strong multicollinearity or other numerical problems."
      ],
      "text/plain": [
       "<class 'statsmodels.iolib.summary.Summary'>\n",
       "\"\"\"\n",
       "                            OLS Regression Results                            \n",
       "==============================================================================\n",
       "Dep. Variable:                  Preis   R-squared:                       0.822\n",
       "Model:                            OLS   Adj. R-squared:                  0.821\n",
       "Method:                 Least Squares   F-statistic:                     1693.\n",
       "Date:                Thu, 27 Jun 2024   Prob (F-statistic):               0.00\n",
       "Time:                        17:48:26   Log-Likelihood:                -11769.\n",
       "No. Observations:                1104   AIC:                         2.355e+04\n",
       "Df Residuals:                    1100   BIC:                         2.357e+04\n",
       "Df Model:                           3                                         \n",
       "Covariance Type:            nonrobust                                         \n",
       "==============================================================================\n",
       "                 coef    std err          t      P>|t|      [0.025      0.975]\n",
       "------------------------------------------------------------------------------\n",
       "const        660.4066   1416.736      0.466      0.641   -2119.404    3440.218\n",
       "Alter        500.7289     40.158     12.469      0.000     421.935     579.523\n",
       "Einkommen      1.0477      0.029     35.874      0.000       0.990       1.105\n",
       "Geschlecht  2243.7292    647.696      3.464      0.001     972.871    3514.588\n",
       "==============================================================================\n",
       "Omnibus:                       40.961   Durbin-Watson:                   2.104\n",
       "Prob(Omnibus):                  0.000   Jarque-Bera (JB):               79.378\n",
       "Skew:                           0.246   Prob(JB):                     5.80e-18\n",
       "Kurtosis:                       4.218   Cond. No.                     2.81e+05\n",
       "==============================================================================\n",
       "\n",
       "Notes:\n",
       "[1] Standard Errors assume that the covariance matrix of the errors is correctly specified.\n",
       "[2] The condition number is large, 2.81e+05. This might indicate that there are\n",
       "strong multicollinearity or other numerical problems.\n",
       "\"\"\""
      ]
     },
     "execution_count": 36,
     "metadata": {},
     "output_type": "execute_result"
    }
   ],
   "source": [
    "# Erstellung eines geeigneten Dataframes\n",
    "df14 = df.loc[df[\"Kunde\"] == True, [\"Alter\", \"Einkommen\", \"Preis\", \"Geschlecht\"]]\n",
    "\n",
    "# Auswahl der abhängigen und unabhängigen Variablen\n",
    "unabhängigeVar = df14[[\"Alter\", \"Einkommen\", \"Geschlecht\"]]\n",
    "abhängigeVar = df14[\"Preis\"]\n",
    "\n",
    "# Hinzufügen einer Konstanten \n",
    "unabhängigeVar = sm.add_constant(unabhängigeVar)\n",
    "\n",
    "# Regression durchführen\n",
    "model = sm.OLS(abhängigeVar, unabhängigeVar).fit()\n",
    "results = model.summary()\n",
    "results"
   ]
  },
  {
   "cell_type": "code",
   "execution_count": 37,
   "id": "51b7b17f-621d-4997-877c-8273e243ff82",
   "metadata": {},
   "outputs": [],
   "source": [
    "# Antwort: \n",
    "# Sowohl das Alter als auch das Einkommen beeinflussen den Kaufpreis hochsignifikant. Auch das Geschlecht beeinflusst den Kaufpreis stark.\n",
    "# Je älter oder je mehr Einkommen ein Kunde ist/hat desto höher ist der Kaufpreis. Männer zahlen durchschtlich 2244€ mehr.\n",
    "# Durch den relativ hohen Wert von 0.822 für R-squared kann man sagen, dass das Modell gut geeignet ist, um den Kaufpreis zu erklären. "
   ]
  },
  {
   "cell_type": "code",
   "execution_count": 38,
   "id": "a380340f-2750-4701-8ffa-a34fd2483335",
   "metadata": {},
   "outputs": [],
   "source": [
    "# Aufgabe 15 - Prognostizieren Sie den Kaufpreis eines unserer Autos für einen männlichen Kunden im Alter von 32 Jahren mit einem Einkommen \n",
    "# von 30.000 Euro. Prognostizieren Sie den Kaufpreis eines unserer Autos für einen männlichen Kunden im Alter von 51 Jahren und mit einem \n",
    "# Einkommen von 54.000 Euro."
   ]
  },
  {
   "cell_type": "code",
   "execution_count": 39,
   "id": "b52034a5-1fd6-4e6f-8761-9691b31cb348",
   "metadata": {},
   "outputs": [
    {
     "name": "stdout",
     "output_type": "stream",
     "text": [
      "Prognostizierter Kaufpreis für einen 32-jährigen männlichen Kunden mit einem Einkommen von 30.000 Euro: 50357.47 Euro\n",
      "Prognostizierter Kaufpreis für einen 51-jährigen männlichen Kunden mit einem Einkommen von 54.000 Euro: 85015.33 Euro\n"
     ]
    }
   ],
   "source": [
    "# Features und Zielvariable definieren\n",
    "Kundeneigenschaften = df14[['Alter', 'Einkommen','Geschlecht']]  \n",
    "Kaufpreis = df14['Preis']  \n",
    "\n",
    "# Lineares Regressionsmodell trainieren\n",
    "model = LinearRegression()\n",
    "model.fit(Kundeneigenschaften, Kaufpreis)\n",
    "\n",
    "# Prognose für den ersten Kunden (32 Jahre, männlich, 30.000 Euro Einkommen)\n",
    "kunde1 = pd.DataFrame([[32, 30000, 1]], columns=Kundeneigenschaften.columns)\n",
    "prognose1 = model.predict(kunde1)\n",
    "\n",
    "# Prognose für den zweiten Kunden (51 Jahre, männlich, 54.000 Euro Einkommen)\n",
    "kunde2 = pd.DataFrame([[51, 54000, 1]], columns=Kundeneigenschaften.columns)\n",
    "prognose2 = model.predict(kunde2)\n",
    "\n",
    "print(f'Prognostizierter Kaufpreis für einen 32-jährigen männlichen Kunden mit einem Einkommen von 30.000 Euro: {prognose1[0]:.2f} Euro')\n",
    "print(f'Prognostizierter Kaufpreis für einen 51-jährigen männlichen Kunden mit einem Einkommen von 54.000 Euro: {prognose2[0]:.2f} Euro')"
   ]
  },
  {
   "cell_type": "code",
   "execution_count": 40,
   "id": "3d9a3726-3d74-496e-8795-5ad321d13cc0",
   "metadata": {},
   "outputs": [],
   "source": [
    "# Aufgabe 16 - In Bezug auf die vorherige Frage: Welche Variable beeinflusst den Preis des Autos am meisten? Mit anderen Worten: \n",
    "# Die von Ihnen geschätzten Regressionskoeffizienten müssen direkt vergleichbar sein. Wie sollen die Daten transformiert werden?"
   ]
  },
  {
   "cell_type": "code",
   "execution_count": 41,
   "id": "71e5b7cf-aff9-4921-be88-c42142b9d68c",
   "metadata": {},
   "outputs": [
    {
     "name": "stdout",
     "output_type": "stream",
     "text": [
      "Standardisierter Koeffizient für Alter: 5982.5101\n",
      "Standardisierter Koeffizient für Einkommen: 17219.5202\n",
      "Standardisierter Koeffizient für Geschlecht: 1078.4939\n"
     ]
    }
   ],
   "source": [
    "# Standardisierung der Features\n",
    "scaler = StandardScaler()\n",
    "Kundeneigenschaften_scaled = scaler.fit_transform(Kundeneigenschaften)\n",
    "\n",
    "# Lineares Regressionsmodell trainieren mit standardisierten Daten\n",
    "model = LinearRegression()\n",
    "model.fit(Kundeneigenschaften_scaled, Kaufpreis)\n",
    "\n",
    "# Regressionskoeffizienten\n",
    "Koeffizient = model.coef_\n",
    "Faetures = Kundeneigenschaften.columns\n",
    "\n",
    "# Ausgabe der Koeffizienten mit den zugehörigen Feature-Namen\n",
    "for feature, coef in zip(Faetures, Koeffizient):\n",
    "    print(f'Standardisierter Koeffizient für {feature}: {coef:.4f}')\n"
   ]
  },
  {
   "cell_type": "code",
   "execution_count": 42,
   "id": "b6ec6396-aa3f-4ab1-aa47-e35d181bf7a2",
   "metadata": {},
   "outputs": [],
   "source": [
    "# Aufgabe 17 - Schätzen Sie eine Regression, die die Wahrscheinlichkeit des Kaufs eines Autos ermittelt. \n",
    "# Verwenden Sie die entsprechende Methode (Sie müssen eine logistische Regression durchführen)."
   ]
  },
  {
   "cell_type": "code",
   "execution_count": 43,
   "id": "651cc06a-35bb-4fbd-9c05-af32ed7034b9",
   "metadata": {},
   "outputs": [
    {
     "name": "stdout",
     "output_type": "stream",
     "text": [
      "Optimization terminated successfully.\n",
      "         Current function value: 0.578551\n",
      "         Iterations 6\n",
      "                           Logit Regression Results                           \n",
      "==============================================================================\n",
      "Dep. Variable:                  Kunde   No. Observations:                 1995\n",
      "Model:                          Logit   Df Residuals:                     1990\n",
      "Method:                           MLE   Df Model:                            4\n",
      "Date:                Thu, 27 Jun 2024   Pseudo R-squ.:                  0.1584\n",
      "Time:                        17:48:26   Log-Likelihood:                -1154.2\n",
      "converged:                       True   LL-Null:                       -1371.4\n",
      "Covariance Type:            nonrobust   LLR p-value:                 9.964e-93\n",
      "==============================================================================\n",
      "                 coef    std err          z      P>|z|      [0.025      0.975]\n",
      "------------------------------------------------------------------------------\n",
      "const         -2.4088      0.263     -9.150      0.000      -2.925      -1.893\n",
      "Alter          0.0185      0.007      2.701      0.007       0.005       0.032\n",
      "Einkommen  -4.307e-05   5.46e-06     -7.883      0.000   -5.38e-05   -3.24e-05\n",
      "Geschlecht     0.2416      0.103      2.346      0.019       0.040       0.443\n",
      "Zeit           0.1023      0.006     17.548      0.000       0.091       0.114\n",
      "==============================================================================\n"
     ]
    }
   ],
   "source": [
    "# Features und Zielvariable definieren\n",
    "\n",
    "y_lg = df[['Alter', 'Einkommen', 'Geschlecht', 'Zeit']]\n",
    "x_lg = df['Kunde']\n",
    "\n",
    "# Hinzufügen einer Konstante\n",
    "y = sm.add_constant(y_lg)\n",
    "\n",
    "# Durchführen der Logistischen Regression\n",
    "prognose3 = sm.Logit(x_lg, y).fit()\n",
    "\n",
    "print(prognose3.summary())"
   ]
  },
  {
   "cell_type": "code",
   "execution_count": 44,
   "id": "391ca737-bc3d-4979-8121-b94bf6e24fe7",
   "metadata": {},
   "outputs": [],
   "source": [
    "# Aufgabe 18 - Wie hoch ist die Wahrscheinlichkeit, dass ein 32-jähriger männlicher Kunde mit einem Einkommen von 30.000 Euro, der das \n",
    "# Auto 30 Minuten lang getestet hat, eines unserer Modelle kauft? Wie hoch ist die Wahrscheinlichkeit, dass ein 51-jähriger männlicher \n",
    "# Kunde mit einem Einkommen von 54.000 Euro, der das Auto 45 Minuten lang getestet hat, eines unserer Modelle kauft?"
   ]
  },
  {
   "cell_type": "code",
   "execution_count": 45,
   "id": "2487465a-90f0-4162-977a-ba6502de305c",
   "metadata": {},
   "outputs": [
    {
     "name": "stdout",
     "output_type": "stream",
     "text": [
      "Wahrscheinlichkeit des Kaufs für einen 32-jährigen männlichen Kunden mit einem Einkommen von 30.000 Euro und 30 Minuten Testzeit: 54.93%\n",
      "Wahrscheinlichkeit des Kaufs für einen 51-jährigen männlichen Kunden mit einem Einkommen von 54.000 Euro und 45 Minuten Testzeit: 73.98%\n"
     ]
    }
   ],
   "source": [
    "x_lg18 = df['Kunde']  # Zielvariable\n",
    "y_lg18 = df[['Alter', 'Einkommen', 'Geschlecht', 'Zeit']]  # Features\n",
    "\n",
    "# Standardisierung der Features\n",
    "scaler = StandardScaler()\n",
    "y_scaled = scaler.fit_transform(y_lg18)\n",
    "\n",
    "# Logistisches Regressionsmodell trainieren mit standardisierten Daten\n",
    "model = LogisticRegression()\n",
    "model.fit(y_scaled, x_lg18)\n",
    "\n",
    "# Wahrscheinlichkeiten des Kaufs für den ersten Kunden (32 Jahre, männlich, 30.000 Euro Einkommen, 30 Minuten Testzeit)\n",
    "# Korrekte Zuordnung der Spaltennamen und Werte für die Kunden\n",
    "kunde3 = pd.DataFrame([[32, 30000, 1, 30]], columns=['Alter', 'Einkommen', 'Geschlecht', 'Zeit'])\n",
    "kunde3_scaled = scaler.transform(kunde3)\n",
    "prognose4 = model.predict_proba(kunde3_scaled)[:, 1]\n",
    "\n",
    "# Wahrscheinlichkeiten des Kaufs für den zweiten Kunden (51 Jahre, männlich, 54.000 Euro Einkommen, 45 Minuten Testzeit)\n",
    "kunde4 = pd.DataFrame([[51, 54000, 1, 45]], columns=['Alter', 'Einkommen', 'Geschlecht', 'Zeit'])\n",
    "kunde4_scaled = scaler.transform(kunde4)\n",
    "prognose5 = model.predict_proba(kunde4_scaled)[:, 1]\n",
    "\n",
    "# Ausgabe der Wahrscheinlichkeiten\n",
    "print(f'Wahrscheinlichkeit des Kaufs für einen 32-jährigen männlichen Kunden mit einem Einkommen von 30.000 Euro und 30 Minuten Testzeit: {prognose4[0]*100:.2f}%')\n",
    "print(f'Wahrscheinlichkeit des Kaufs für einen 51-jährigen männlichen Kunden mit einem Einkommen von 54.000 Euro und 45 Minuten Testzeit: {prognose5[0]*100:.2f}%')"
   ]
  },
  {
   "cell_type": "code",
   "execution_count": 46,
   "id": "d107f1a0-14c0-4da7-9481-4921bc98aa82",
   "metadata": {},
   "outputs": [],
   "source": [
    "# Aufgabe 19 - Auf welche Probleme sind Sie bei der Zusammenführung des Datensatzes gestoßen? Stellen Sie die Operationen vor, \n",
    "# die Sie zum Zusammenführen und Bereinigen der Daten durchgeführt haben.\n",
    "\n",
    "# Bei der Zusammenführung des Datensatzes sind wir auf unterschiedliche kleinere Probleme gestoßen die wir gut lösen konnten. \n",
    "# Tatsächlich hat das Zusammenführen der drei Datensätze am Schluss am längsten gedauert, weil hier am meisten getestet werden musste. \n",
    "\n",
    "# a) Vielfältigkeit der Datensätze\n",
    "#    Da sich die Datensätze unterscheiden, musste beim Einlesen darauf geachtet werden, dass sie korrekt eingelesen werden, \n",
    "#    denn teilweise war der Delimiter unterschiedlich und teilweise das Zeichen für die Dezimalstelle.\n",
    "\n",
    "# b) Unterschiedliche Datentypen\n",
    "#    Es ist aufgefallen, dass der Datentyp nicht immer Optimal gepasst hat. Beispielsweise wurde das Alter einmal als Integer und \n",
    "#    einmal als float erkannt. Das stellte zwar kein Problem dar aber wir haben es trotzdem am Schluss zu dem passenderen und performanteren\n",
    "#    Datentyp (Integer) geändert. \n",
    "\n",
    "# c) Fehlende Werte\n",
    "#    Mit der Funktion DF.describe() ist aufgefallen, dass es fehlende Werte gab. In einer Lister wurden gespeichert, gemischt und \n",
    "#    anschließend an den fehlenden stellen eingesetzt. Es wurden folgende Funktionen benutzt: \n",
    "#    np.random.shuffle(values) und DF.loc[KundenDF_missing_values.index, 'Geschlecht'] = values\n",
    "\n",
    "# d) Behandlung von Ausreißer \n",
    "#    1. Einkommen - Es gab in beiden .csv Tabellen Ausreißer, welche seperat behandelt wurden\n",
    "#    Zunächst wurden die Ausreißer mathematisch mit den Funktionen aus der Vorlesung berechnet, eine Spalte welche den Wert True oder False \n",
    "#    annehmen kann hinzugefügt und anschließend wurden die Ausreißer visuell dargestellt\n",
    "#    Hierfür wurden folgende Funktionen benutzt: Q1 = KundenDF['Einkommen'].quantile(0.25) usw. so wie in den Folien, \n",
    "#    KundenDF['Ausreißer'] = (KundenDF['Einkommen'] < untere_grenze) | (KundenDF['Einkommen'] > obere_grenze) - um die Spalte hinzuzufügen\n",
    "#    Zum visualisieren wurden Funktionen aus den Bib. seaborn und matplotlib.pyplot benutzt \n",
    "#    Insgesamt konnten 7 Ausreißer festgestellt werden, die wir jeweils mit dem Median der jeweiligen Tabelle ersetzt haben\n",
    "#    Dazu wurden folgende Funktionen benutzt: medianwertEKinBesucher = BesucherDF['Einkommen'].median() und \n",
    "#    BesucherDF.loc[BesucherDF['Ausreißer'], 'Einkommen'] = medianwertEKinBesucher\n",
    "#    \n",
    "#    2. Alter - Es gab nur in der .csv Tabelle \"Kunden\" Ausreißer\n",
    "#    Zunächst wurde diese Tabelle in einem Histogramm visualisiert. Es ist aufgefallen, dass es zwei falsche Werte gibt. Diese wurden mit\n",
    "#    dem Modus ersetzt. Dazu wurden folgende Funktionen benutzt: \n",
    "#    modusAlter = KundenDF['Alter'].mode()[0] um den Modus einer Variablen zuzuweisen und \n",
    "#    KundenDF.loc[falsche_werte_index, 'Alter'] = modusAlter um die falschen Werte zu ersetzen\n",
    "\n",
    "# e) Behandlung falscher Eingaben \n",
    "#    Bei der Textdatei ist aufgefallen, dass es einige falsche Eingaben gab.\n",
    "#    Zunächst wurde mit folgender Funktion überprüft, welche Wörter überhaupt eingegeben wurden: \n",
    "#    uniqueNL = GeoDF['Niederlassung'].unique()\n",
    "#    Um das Problem zu lösen wurde ein Wörterbuch erstellt und im Anschluss wurden die falschen Eingaben ersetzt. Mit folgenden Funktionen:\n",
    "#    korrekturen = { 'BERLIN': 'Berlin', 'Berlin-Charlottenburg': 'Berlin', 'Berlin-Mitte': 'Berlin', 'NRW': 'Nordrhein-Westfalen',} und\n",
    "#    GeoDF['Niederlassung'] = GeoDF['Niederlassung'].replace(korrekturen)\n",
    "\n",
    "# f) Als letztes wurden die drei Dataframes zusammengeführt und als eine neue .csv exportiert\n",
    "#    Dazu wurde hauptsächlich die Funktion .merge() benutzt aber der Code wäre zu lang um ihn hier zu kopieren."
   ]
  },
  {
   "cell_type": "code",
   "execution_count": 47,
   "id": "2acdfd53-3bb2-4273-9e6a-b63eedf264c6",
   "metadata": {},
   "outputs": [],
   "source": [
    "# Aufgabe 20 - Welche Vorschläge würden Sie der Kundenabteilung für die Umfrage im nächsten Jahr machen? \n",
    "# Welche zusätzlichen Informationen sollten gesammelt werden? Formulieren Sie zwei Vorschläge.\n",
    "\n",
    "\n",
    "# Um die Vorhersagegenauigkeit und das Verständnis des Kundenverhaltens zu verbessern, würde ich der Kundenabteilung \n",
    "# die folgenden Vorschläge für die Umfrage im nächsten Jahr machen:\n",
    "\n",
    "# Vorschlag 1: Sammlung von Daten über das Kundenverhalten und die Kaufentscheidungsfaktoren\n",
    "\n",
    "# Zusätzliche Informationen:\n",
    "# -Motivationen für den Autokauf: Nach den Hauptgründen fragen, warum Kunden ein Auto kaufen möchten \n",
    "#                                 (z.B. berufliche Notwendigkeit, Freizeit, Familienerweiterung, etc.)\n",
    "# -Einflussfaktoren auf die Kaufentscheidung: Ermitteln, welche Faktoren die Kaufentscheidung am meisten beeinflussen \n",
    "#                                             (z.B. Preis-Leistungs-Verhältnis, Marke, technische Features, Nachhaltigkeit, \n",
    "#                                             Empfehlungen von Freunden/Familie).\n",
    "# -Kundenzufriedenheit mit dem Testfahrerlebnis: Bewerten Sie, wie zufrieden Kunden mit ihrem Testfahrerlebnis sind\n",
    "#                                                (z.B. Bewertung von 1-5).\n",
    "\n",
    "# Begründung: Diese zusätzlichen Informationen geben Einblicke in die Gründe und Motivationen hinter den Kaufentscheidungen der Kunden. \n",
    "#             Sie helfen auch zu verstehen, welche Aspekte des Autos und des Kaufprozesses am wichtigsten sind, sodass unser Autohaus \n",
    "#             seine Strategien anpassen kann, um die Bedürfnisse und Erwartungen der Kunden besser zu erfüllen.\n",
    "\n",
    "# Vorschlag 2: Erhebung von demografischen und psychografischen Daten\n",
    "\n",
    "# Zusätzliche Informationen:\n",
    "# -Berufliche Situation: Informationen über den Beruf und die Branche der Kunden.\n",
    "# -Bildungsstand: Erfragen Sie den höchsten Bildungsabschluss der Kunden.\n",
    "# -Freizeitinteressen und Lebensstil: Erheben Sie Informationen über die Freizeitinteressen und Hobbys der Kunden.\n",
    "# -Haushaltsgröße und Familienstand: Informationen über die Anzahl der Personen im Haushalt und den Familienstand.\n",
    "\n",
    "# Begründung:\n",
    "# Demografische und psychografische Daten bieten wertvolle Erkenntnisse über die Zielgruppe und deren Lebensstil.\n",
    "# Diese Informationen können genutzt werden, um gezielte Marketingstrategien zu entwickeln und die Produktangebote besser \n",
    "# an die Bedürfnisse der unterschiedlichen Kundensegmente anzupassen. Sie ermöglichen auch eine personalisierte Ansprache und \n",
    "# verbessern die Relevanz der Werbebotschaften.\n",
    "\n",
    "# Durch die Sammlung dieser zusätzlichen Informationen kann die Kundenabteilung ein umfassenderes und genaueres Bild der \n",
    "# Kundenbedürfnisse und -verhaltensweisen zeichnen, was zu einer verbesserten Kundenbindung und höheren Verkaufszahlen führen kann."
   ]
  }
 ],
 "metadata": {
  "kernelspec": {
   "display_name": "Python 3 (ipykernel)",
   "language": "python",
   "name": "python3"
  },
  "language_info": {
   "codemirror_mode": {
    "name": "ipython",
    "version": 3
   },
   "file_extension": ".py",
   "mimetype": "text/x-python",
   "name": "python",
   "nbconvert_exporter": "python",
   "pygments_lexer": "ipython3",
   "version": "3.11.7"
  }
 },
 "nbformat": 4,
 "nbformat_minor": 5
}
